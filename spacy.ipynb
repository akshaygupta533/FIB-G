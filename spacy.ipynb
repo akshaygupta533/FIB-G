{
 "cells": [
  {
   "cell_type": "code",
   "execution_count": 2,
   "metadata": {},
   "outputs": [
    {
     "name": "stderr",
     "output_type": "stream",
     "text": [
      "/home/sarvesh/.local/lib/python3.5/site-packages/requests/__init__.py:80: RequestsDependencyWarning: urllib3 (1.22) or chardet (2.3.0) doesn't match a supported version!\n",
      "  RequestsDependencyWarning)\n",
      "/usr/lib/python3.5/importlib/_bootstrap.py:222: RuntimeWarning: numpy.dtype size changed, may indicate binary incompatibility. Expected 96, got 88\n",
      "  return f(*args, **kwds)\n",
      "/usr/lib/python3.5/importlib/_bootstrap.py:222: RuntimeWarning: numpy.ufunc size changed, may indicate binary incompatibility. Expected 192, got 176\n",
      "  return f(*args, **kwds)\n",
      "/usr/lib/python3.5/importlib/_bootstrap.py:222: RuntimeWarning: numpy.dtype size changed, may indicate binary incompatibility. Expected 96, got 88\n",
      "  return f(*args, **kwds)\n",
      "/usr/lib/python3.5/importlib/_bootstrap.py:222: RuntimeWarning: numpy.ufunc size changed, may indicate binary incompatibility. Expected 192, got 176\n",
      "  return f(*args, **kwds)\n"
     ]
    }
   ],
   "source": [
    "import spacy\n",
    "nlp=spacy.load('en_core_web_lg')"
   ]
  },
  {
   "cell_type": "code",
   "execution_count": 13,
   "metadata": {},
   "outputs": [],
   "source": [
    "file=open(\"data.txt\",\"r\")\n",
    "docs=file.readlines()"
   ]
  },
  {
   "cell_type": "code",
   "execution_count": 36,
   "metadata": {},
   "outputs": [
    {
     "name": "stdout",
     "output_type": "stream",
     "text": [
      "1\n",
      "2\n",
      "3\n",
      "4\n",
      "5\n",
      "6\n",
      "7\n",
      "8\n",
      "9\n",
      "10\n",
      "11\n",
      "12\n",
      "13\n",
      "14\n",
      "15\n",
      "16\n",
      "17\n",
      "18\n",
      "19\n",
      "20\n",
      "21\n",
      "22\n",
      "23\n",
      "24\n",
      "25\n",
      "26\n",
      "27\n",
      "28\n",
      "29\n",
      "30\n",
      "31\n",
      "32\n",
      "33\n",
      "34\n",
      "35\n",
      "36\n",
      "37\n",
      "38\n",
      "39\n",
      "40\n",
      "41\n",
      "42\n",
      "43\n",
      "44\n",
      "45\n",
      "46\n",
      "47\n",
      "48\n",
      "49\n",
      "50\n",
      "51\n",
      "52\n",
      "53\n",
      "54\n",
      "55\n",
      "56\n",
      "57\n",
      "58\n",
      "59\n",
      "60\n",
      "61\n",
      "62\n",
      "63\n",
      "64\n",
      "65\n",
      "66\n",
      "67\n",
      "68\n",
      "69\n",
      "70\n",
      "71\n",
      "72\n",
      "73\n",
      "74\n",
      "75\n",
      "76\n",
      "77\n",
      "78\n",
      "79\n",
      "80\n",
      "81\n",
      "82\n",
      "83\n",
      "84\n",
      "85\n",
      "86\n",
      "87\n",
      "88\n",
      "89\n",
      "90\n",
      "91\n",
      "92\n",
      "93\n",
      "94\n",
      "95\n",
      "96\n",
      "97\n",
      "98\n",
      "99\n",
      "100\n",
      "101\n",
      "102\n",
      "103\n"
     ]
    }
   ],
   "source": [
    "counter=0\n",
    "final=dict()\n",
    "for doc in docs:\n",
    "    counter+=1\n",
    "#     print(counter)\n",
    "    d=nlp(doc.strip())\n",
    "    if(len(d.ents)!=0):\n",
    "#         final.append([(x.text,x.label_) for x in d.ents])\n",
    "            for x in d.ents:\n",
    "                try:\n",
    "                    final[x.label_].append(x.text)\n",
    "                except:\n",
    "                    final[x.label_] = []\n",
    "                    final[x.label_].append(x.text)"
   ]
  },
  {
   "cell_type": "code",
   "execution_count": 3,
   "metadata": {},
   "outputs": [],
   "source": [
    "data = [{\"text\": \"In 1800, only 31 elements were known.\", \"fibs\": [\"31\"]},\n",
    "{\"text\": \"At present 114 elements are known.\", \"fibs\": [\"114\"]},\n",
    "{\"text\": \"Classification of elements into groups and development of Periodic Law and Periodic Table are the consequences of systematising the knowledge gained by a number of scientists through their observations and experiments.\", \"fibs\": [\"elements \", \"Periodic\"]},\n",
    "{\"text\": \"Since Dobereiner’s relationship, referred to as the Law of Triads, seemed to work only for a few elements, it was dismissed as coincidence.\", \"fibs\": [\"Law of Triads\"]},\n",
    "{\"text\": \"The English chemist, John Alexander Newlands in 1865 profounded the Law of Octaves.\", \"fibs\": [\"Law of Octaves\", \"John Alexander Newlands\"]},\n",
    "{\"text\": \"Newlands’s Law of Octaves seemed to be true only for elements up to calcium.\", \"fibs\": [\"calcium\", \"Law of Octaves\"]},\n",
    "{\"text\": \"The Periodic Law, as we know it today owes its development to the Russian chemist, Dmitri Mendeleev (1834-1907) and the German chemist, Lothar Meyer (1830-1895).\", \"fibs\": [\"Periodic \", \"Lothar Meyer\", \"Dmitri Mendeleev\"]},\n",
    "{\"text\": \"Lothar Meyer plotted the physical properties such as atomic volume, melting point and boiling point against atomic weight and obtained a periodically repeated pattern.\", \"fibs\": [\"boiling point\", \"Lothar Meyer\", \"atomic weight\", \"atomic volume\", \"physical \", \"melting point\"]},\n",
    "{\"text\": \"Unlike Newlands, Lothar Meyer observed a change in length of that repeating pattern.\", \"fibs\": [\"Lothar Meyer\"]},\n",
    "{\"text\": \"By 1868, Lothar Meyer had developed a table of the elements that closely resembles the Modern Periodic Table.\", \"fibs\": [\"Lothar Meyer\"]},\n",
    "{\"text\": \"While Dobereiner initiated the study of periodic relationship, it was Mendeleev who was responsible for publishing the Periodic Law for the first time.\", \"fibs\": [\"Periodic \", \"Mendeleev \"]},\n",
    "{\"text\": \"The properties of the elements are a periodic function of their atomic weights.\", \"fibs\": [\"elements \", \"periodic \", \"atomic weights\"]},\n",
    "{\"text\": \"Mendeleev arranged elements in horizontal rows and vertical columns of a table in order of their increasing atomic weights in such a way that the elements with similar properties occupied the same vertical column or group.\", \"fibs\": [\"elements \", \"Mendeleev \", \"increasing\", \"atomic weights\"]},\n",
    "{\"text\": \"Mendeleev’s system of classifying elements was more elaborate than that of Lothar Meyer’s.\", \"fibs\": [\"elements \", \"Mendeleev’s \"]},\n",
    "{\"text\": \"In particular, Mendeleev relied on the similarities in the empirical formulas and properties of the compounds formed by the elements.\", \"fibs\": [\"Mendeleev \"]},\n",
    "{\"text\": \"Mendeleev predicted not only the existence of gallium and germanium, but also described some of their general physical properties.\", \"fibs\": [\"Mendeleev \", \"gallium \", \"germanium\"]},\n",
    "{\"text\": \"Dmitri Mendeleev was born in Tobalsk, Siberia in Russia.\", \"fibs\": [\"Dmitri Mendeleev\"]},\n",
    "{\"text\": \"To place certain elements into the correct group from the point of view of their chemical properties, Mendeleev reversed the order of some pairs of elements and asserted that their atomic masses were incorrect.\", \"fibs\": [\"chemical \", \"atomic masses\", \"Mendeleev \"]},\n",
    "{\"text\": \"Mendeleev’s Periodic Law spurred several areas of research during the subsequent decades.\", \"fibs\": [\"Periodic \"]},]"
   ]
  },
  {
   "cell_type": "code",
   "execution_count": 4,
   "metadata": {},
   "outputs": [
    {
     "name": "stderr",
     "output_type": "stream",
     "text": [
      "/usr/lib/python3.5/importlib/_bootstrap.py:222: RuntimeWarning: numpy.dtype size changed, may indicate binary incompatibility. Expected 96, got 88\n",
      "  return f(*args, **kwds)\n",
      "/usr/lib/python3.5/importlib/_bootstrap.py:222: RuntimeWarning: numpy.dtype size changed, may indicate binary incompatibility. Expected 96, got 88\n",
      "  return f(*args, **kwds)\n",
      "/usr/lib/python3.5/importlib/_bootstrap.py:222: RuntimeWarning: numpy.dtype size changed, may indicate binary incompatibility. Expected 96, got 88\n",
      "  return f(*args, **kwds)\n"
     ]
    }
   ],
   "source": [
    "from nltk.corpus import stopwords"
   ]
  },
  {
   "cell_type": "code",
   "execution_count": 75,
   "metadata": {},
   "outputs": [],
   "source": [
    "import nltk"
   ]
  },
  {
   "cell_type": "code",
   "execution_count": 1,
   "metadata": {},
   "outputs": [],
   "source": [
    "text = \"Indigenous launch vehicles were employed in the early 1980’s to send the Rohini series of satellites into space.\""
   ]
  },
  {
   "cell_type": "code",
   "execution_count": 77,
   "metadata": {},
   "outputs": [],
   "source": [
    "tokens = nltk.word_tokenize(text)"
   ]
  },
  {
   "cell_type": "code",
   "execution_count": 78,
   "metadata": {},
   "outputs": [
    {
     "data": {
      "text/plain": [
       "[('Indigenous', 'JJ'),\n",
       " ('launch', 'NN'),\n",
       " ('vehicles', 'NNS'),\n",
       " ('were', 'VBD'),\n",
       " ('employed', 'VBN'),\n",
       " ('in', 'IN'),\n",
       " ('the', 'DT'),\n",
       " ('early', 'JJ'),\n",
       " ('1980', 'CD'),\n",
       " ('’', 'NN'),\n",
       " ('s', 'NN'),\n",
       " ('to', 'TO'),\n",
       " ('send', 'VB'),\n",
       " ('the', 'DT'),\n",
       " ('Rohini', 'NNP'),\n",
       " ('series', 'NN'),\n",
       " ('of', 'IN'),\n",
       " ('satellites', 'NNS'),\n",
       " ('into', 'IN'),\n",
       " ('space', 'NN'),\n",
       " ('.', '.')]"
      ]
     },
     "execution_count": 78,
     "metadata": {},
     "output_type": "execute_result"
    }
   ],
   "source": [
    "nltk.pos_tag(tokens)"
   ]
  },
  {
   "cell_type": "code",
   "execution_count": 6,
   "metadata": {},
   "outputs": [],
   "source": [
    "text = \"Virat Kohli (born 5 November 1988) is an Indian cricketer who currently captains the India national team. A right-handed top-order batsman, Kohli is regarded as one of the best batsmen in the world.[3] He plays for Royal Challengers Bangalore in the Indian Premier League (IPL), and has been the team's captain since 2013. Since October 2017, he has been the top-ranked ODI batsman in the world and is currently 2nd in Test rankings.[4] Among Indian batsmen, Kohli has the best ever Test rating (937 points), ODI rating (911 points) and T20I rating (897 points). \""
   ]
  },
  {
   "cell_type": "code",
   "execution_count": 7,
   "metadata": {},
   "outputs": [
    {
     "name": "stdout",
     "output_type": "stream",
     "text": [
      "Virat ____________ (born 5 November 1988) is an Indian cricketer who currently captains the India national team. A right-handed top-order batsman, ____________ is regarded as one of the best batsmen in the world.[3] He plays for Royal Challengers Bangalore in the Indian Premier League (IPL), and has been the team's captain since 2013. Since October 2017, he has been the top-ranked ODI batsman in the world and is currently 2nd in Test rankings.[4] Among Indian batsmen, ____________ has the best ever Test rating (937 points), ODI rating (911 points) and T20I rating (897 points). \n"
     ]
    }
   ],
   "source": [
    "d=nlp(text)\n",
    "land=[(x.text,x.label_) for x in d.ents]\n",
    "final=[]\n",
    "for i in land:\n",
    "    if i[1]==\"PERSON\" or i[1]==\"LAW\":\n",
    "        final.append(i[0])\n",
    "for i in final:\n",
    "    temp=text.replace(i,\"____________\")\n",
    "print(temp)"
   ]
  },
  {
   "cell_type": "code",
   "execution_count": 8,
   "metadata": {},
   "outputs": [
    {
     "name": "stdout",
     "output_type": "stream",
     "text": [
      "============\n",
      "In 1800, only 31 elements were known.\n",
      "[] ['31']\n",
      "============\n"
     ]
    }
   ],
   "source": [
    "for i in data:\n",
    "    d=nlp(\"The parenchyma stores food and helps in the sideways conduction of water.\")\n",
    "    print(\"============\")\n",
    "    print(i['text'])\n",
    "    print([(x.text,x.label_) for x in d.ents],i['fibs'])\n",
    "    print(\"============\")\n",
    "    break"
   ]
  },
  {
   "cell_type": "code",
   "execution_count": null,
   "metadata": {},
   "outputs": [],
   "source": []
  }
 ],
 "metadata": {
  "kernelspec": {
   "display_name": "Python 3",
   "language": "python",
   "name": "python3"
  },
  "language_info": {
   "codemirror_mode": {
    "name": "ipython",
    "version": 3
   },
   "file_extension": ".py",
   "mimetype": "text/x-python",
   "name": "python",
   "nbconvert_exporter": "python",
   "pygments_lexer": "ipython3",
   "version": "3.6.6"
  }
 },
 "nbformat": 4,
 "nbformat_minor": 2
}
