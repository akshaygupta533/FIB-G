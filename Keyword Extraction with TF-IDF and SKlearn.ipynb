{
 "cells": [
  {
   "cell_type": "markdown",
   "metadata": {},
   "source": [
    "## Extracting Important Keywords from Text with TF-IDF and Python's Scikit-Learn \n",
    "\n",
    "Back in 2006, when I had to use TF-IDF for keyword extraction in Java, I ended up writing all of the code from scratch as Data Science nor GitHub were a thing back then and libraries were just limited. The world is much different today. You have several [libraries](http://scikit-learn.org/stable/modules/generated/sklearn.feature_extraction.text.TfidfTransformer.html#sklearn.feature_extraction.text.TfidfTransformer) and [open-source code on Github](https://github.com/topics/tf-idf?o=desc&s=forks) that provide a decent implementation of TF-IDF. If you don't need a lot of control over how the TF-IDF math is computed then I would highly recommend re-using libraries from known packages such as [Spark's MLLib](https://spark.apache.org/docs/2.2.0/mllib-feature-extraction.html) or [Python's scikit-learn](http://scikit-learn.org/stable/). \n",
    "\n",
    "The one problem that I noticed with these libraries is that they are meant as a pre-step for other tasks like clustering, topic modeling and text classification. [TF-IDF](https://en.wikipedia.org/wiki/Tf%E2%80%93idf) can actually be used to extract important keywords from a document to get a sense of what characterizes a document. For example, if you are dealing with wikipedia articles, you can use tf-idf to extract words that are unique to a given article. These keywords can be used as a very simple summary of the document, it can be used for text-analytics (when we look at these keywords in aggregate), as candidate labels for a document and more. \n",
    "\n",
    "In this article, I will show you how you can use scikit-learn to extract top keywords for a given document using its tf-idf modules. We will specifically do this on a stackoverflow dataset. "
   ]
  },
  {
   "cell_type": "markdown",
   "metadata": {},
   "source": [
    "## Dataset\n",
    "Since we used some pretty clean user reviews in some of my previous tutorials, in  this example, we will be using a Stackoverflow dataset which is slightly noisier and simulates what you could be dealing with in real life. You can find this dataset in [my tutorial repo](https://github.com/kavgan/data-science-tutorials/tree/master/tf-idf/data). Notice that there are two files, the larger file with (20,000 posts)[https://github.com/kavgan/data-science-tutorials/tree/master/tf-idf/data] is used to compute the Inverse Document Frequency (IDF) and the smaller file with [500 posts](https://github.com/kavgan/data-science-tutorials/tree/master/tf-idf/data) would be used as a test set for us to extract keywords from. This dataset is based on the publicly available [Stackoverflow dump on Google's Big Query](https://cloud.google.com/bigquery/public-data/stackoverflow).\n",
    "\n",
    "Let's take a peek at our dataset. The code below reads a one per line json string from `data/stackoverflow-data-idf.json` into a pandas data frame and prints out its schema and total number of posts. Here, `lines=True` simply means we are treating each line in the text file as a separate json string. With this, the json in line 1 is not related to the json in line 2."
   ]
  },
  {
   "cell_type": "code",
   "execution_count": 1,
   "metadata": {},
   "outputs": [
    {
     "name": "stdout",
     "output_type": "stream",
     "text": [
      "Schema:\n",
      "\n",
      " accepted_answer_id          float64\n",
      "answer_count                  int64\n",
      "body                         object\n",
      "comment_count                 int64\n",
      "community_owned_date         object\n",
      "creation_date                object\n",
      "favorite_count              float64\n",
      "id                            int64\n",
      "last_activity_date           object\n",
      "last_edit_date               object\n",
      "last_editor_display_name     object\n",
      "last_editor_user_id         float64\n",
      "owner_display_name           object\n",
      "owner_user_id               float64\n",
      "post_type_id                  int64\n",
      "score                         int64\n",
      "tags                         object\n",
      "title                        object\n",
      "view_count                    int64\n",
      "dtype: object\n",
      "Number of questions,columns= (20000, 19)\n"
     ]
    }
   ],
   "source": [
    "import pandas as pd\n",
    "\n",
    "# read json into a dataframe\n",
    "df_idf=pd.read_json(\"data/stackoverflow-data-idf.json\",lines=True)\n",
    "\n",
    "# print schema\n",
    "print(\"Schema:\\n\\n\",df_idf.dtypes)\n",
    "print(\"Number of questions,columns=\",df_idf.shape)\n"
   ]
  },
  {
   "cell_type": "markdown",
   "metadata": {},
   "source": [
    "Take note that this stackoverflow dataset contains 19 fields including post title, body, tags, dates and other metadata which we don't quite need for this tutorial. What we are mostly interested in for this tutorial is the `body` and `title` which is our source of text. We will now create a field that combines both body and title so we have it in one field. We will also print the second `text` entry in our new field just to see what the text looks like."
   ]
  },
  {
   "cell_type": "code",
   "execution_count": 2,
   "metadata": {},
   "outputs": [
    {
     "data": {
      "text/plain": [
       "'gradle command line i m trying to run a shell script with gradle i currently have something like this def test project tasks create test exec commandline bash c bash c my file dir script sh the problem is that i cannot run this script because i have spaces in my dir name i have tried everything e g commandline bash c bash c my file dir script sh tokenize commandline bash c bash c my file dir script sh commandline bash c new stringbuilder append bash append c my file dir script sh commandline bash c bash c my file dir script sh file dir file c my file dir script sh commandline bash c bash dir getabsolutepath im using windows bit and if i use a path without spaces the script runs perfectly therefore the only issue as i can see is how gradle handles spaces '"
      ]
     },
     "execution_count": 2,
     "metadata": {},
     "output_type": "execute_result"
    }
   ],
   "source": [
    "import re\n",
    "def pre_process(text):\n",
    "    \n",
    "    # lowercase\n",
    "    text=text.lower()\n",
    "    \n",
    "    #remove tags\n",
    "    text=re.sub(\"</?.*?>\",\" <> \",text)\n",
    "    \n",
    "    # remove special characters and digits\n",
    "    text=re.sub(\"(\\\\d|\\\\W)+\",\" \",text)\n",
    "    \n",
    "    return text\n",
    "\n",
    "df_idf['text'] = df_idf['title'] + df_idf['body']\n",
    "df_idf['text'] = df_idf['text'].apply(lambda x:pre_process(x))\n",
    "\n",
    "#show the first 'text'\n",
    "df_idf['text'][2]"
   ]
  },
  {
   "cell_type": "code",
   "execution_count": 14,
   "metadata": {},
   "outputs": [
    {
     "data": {
      "text/plain": [
       "Index(['accepted_answer_id', 'answer_count', 'body', 'comment_count',\n",
       "       'community_owned_date', 'creation_date', 'favorite_count', 'id',\n",
       "       'last_activity_date', 'last_edit_date', 'last_editor_display_name',\n",
       "       'last_editor_user_id', 'owner_display_name', 'owner_user_id',\n",
       "       'post_type_id', 'score', 'tags', 'title', 'view_count', 'text'],\n",
       "      dtype='object')"
      ]
     },
     "execution_count": 14,
     "metadata": {},
     "output_type": "execute_result"
    }
   ],
   "source": [
    "df_idf.columns"
   ]
  },
  {
   "cell_type": "code",
   "execution_count": 12,
   "metadata": {},
   "outputs": [
    {
     "data": {
      "text/plain": [
       "'gradle command line i m trying to run a shell script with gradle i currently have something like this def test project tasks create test exec commandline bash c bash c my file dir script sh the problem is that i cannot run this script because i have spaces in my dir name i have tried everything e g commandline bash c bash c my file dir script sh tokenize commandline bash c bash c my file dir script sh commandline bash c new stringbuilder append bash append c my file dir script sh commandline bash c bash c my file dir script sh file dir file c my file dir script sh commandline bash c bash dir getabsolutepath im using windows bit and if i use a path without spaces the script runs perfectly therefore the only issue as i can see is how gradle handles spaces '"
      ]
     },
     "execution_count": 12,
     "metadata": {},
     "output_type": "execute_result"
    }
   ],
   "source": [
    "df_idf.loc[2]['text']"
   ]
  },
  {
   "cell_type": "markdown",
   "metadata": {},
   "source": [
    "Hmm, doesn't look very pretty with all the html in there, but that's the point. Even in such a mess we can extract some great stuff out of this. While you can eliminate all code from the text, we will keep the code sections for this tutorial for the sake of simplicity.  "
   ]
  },
  {
   "cell_type": "markdown",
   "metadata": {},
   "source": [
    "## Creating the IDF\n",
    "\n",
    "### CountVectorizer to create a vocabulary and generate word counts\n",
    "The next step is to start the counting process. We can use the CountVectorizer to create a vocabulary from all the text in our `df_idf['text']` and generate counts for each row in `df_idf['text']`. The result of the last two lines is a sparse matrix representation of the counts, meaning each column represents a word in the vocabulary and each row represents the document in our dataset where the values are the word counts. Note that with this representation, counts of some words could be 0 if the word did not appear in the corresponding document."
   ]
  },
  {
   "cell_type": "code",
   "execution_count": 25,
   "metadata": {},
   "outputs": [],
   "source": [
    "from sklearn.feature_extraction.text import CountVectorizer\n",
    "import re,os\n",
    "\n",
    "def get_stop_words(stop_file_path):\n",
    "    \"\"\"load stop words \"\"\"\n",
    "    \n",
    "    with open(stop_file_path, 'r', encoding=\"utf-8\") as f:\n",
    "        stopwords = f.readlines()\n",
    "        stop_set = set(m.strip() for m in stopwords)\n",
    "        return frozenset(stop_set)\n",
    "\n",
    "#load a set of stop words\n",
    "stopwords=get_stop_words(\"resources/stopwords.txt\")\n",
    "\n",
    "#get the text column \n",
    "docs=[]\n",
    "dir_files = os.listdir('./temp/')\n",
    "for i in dir_files:\n",
    "    aaa=open('./temp/'+i,'r')\n",
    "    docs.append(aaa.read())\n",
    "#create a vocabulary of words, \n",
    "#ignore words that appear in 85% of documents, \n",
    "#eliminate stop words\n",
    "cv=CountVectorizer(max_df=0.85,stop_words=stopwords)\n",
    "word_count_vector=cv.fit_transform(docs)"
   ]
  },
  {
   "cell_type": "markdown",
   "metadata": {},
   "source": [
    "Now let's check the shape of the resulting vector. Notice that the shape below is `(20000,149391)` because we have 20,000 documents in our dataset (the rows) and the vocabulary size is `149391` meaning we have `149391` unique words (the columns) in our dataset minus the stopwords. In some of the text mining applications, such as clustering and text classification we limit the size of the vocabulary. It's really easy to do this by setting `max_features=vocab_size` when instantiating CountVectorizer."
   ]
  },
  {
   "cell_type": "code",
   "execution_count": 26,
   "metadata": {},
   "outputs": [
    {
     "data": {
      "text/plain": [
       "(10, 6268)"
      ]
     },
     "execution_count": 26,
     "metadata": {},
     "output_type": "execute_result"
    }
   ],
   "source": [
    "word_count_vector.shape"
   ]
  },
  {
   "cell_type": "markdown",
   "metadata": {},
   "source": [
    "Let's limit our vocabulary size to 10,000"
   ]
  },
  {
   "cell_type": "code",
   "execution_count": 27,
   "metadata": {},
   "outputs": [
    {
     "data": {
      "text/plain": [
       "(10, 6268)"
      ]
     },
     "execution_count": 27,
     "metadata": {},
     "output_type": "execute_result"
    }
   ],
   "source": [
    "cv=CountVectorizer(max_df=0.85,stop_words=stopwords,max_features=10000)\n",
    "word_count_vector=cv.fit_transform(docs)\n",
    "word_count_vector.shape"
   ]
  },
  {
   "cell_type": "markdown",
   "metadata": {},
   "source": [
    "Now, let's look at 10 words from our vocabulary. Sweet, these are mostly programming related."
   ]
  },
  {
   "cell_type": "code",
   "execution_count": 28,
   "metadata": {},
   "outputs": [
    {
     "data": {
      "text/plain": [
       "['electrochemistry',\n",
       " 'reactions',\n",
       " 'produce',\n",
       " 'electrical',\n",
       " 'energy',\n",
       " 'conversely',\n",
       " 'carry',\n",
       " 'proceed',\n",
       " 'spontaneously',\n",
       " 'electrochemical']"
      ]
     },
     "execution_count": 28,
     "metadata": {},
     "output_type": "execute_result"
    }
   ],
   "source": [
    "list(cv.vocabulary_.keys())[:10]"
   ]
  },
  {
   "cell_type": "code",
   "execution_count": 31,
   "metadata": {},
   "outputs": [
    {
     "data": {
      "text/plain": [
       "dict_keys(['electrochemistry', 'reactions', 'produce', 'electrical', 'energy', 'conversely', 'carry', 'proceed', 'spontaneously', 'electrochemical', 'cell', 'differentiate', 'galvanic', 'electrolytic', 'cells', 'apply', 'nernst', 'calculating', 'emf', 'standard', 'potential', 'derive', 'gibbs', 'reaction', 'equilibrium', 'resistivity', 'conductivity', 'molar', 'ionic', 'solutions', 'electronic', 'method', 'measurement', 'calculation', 'justify', 'variation', 'concentration', 'infinite', 'dilution', 'enunciate', 'kohlrausch', 'law', 'applications', 'understand', 'quantitative', 'aspects', 'electrolysis', 'construction', 'primary', 'secondary', 'batteries', 'fuel', 'corrosion', 'production', 'electricity', 'released', 'spontaneous', 'bring', 'transformations', 'subject', 'importance', 'theoretical', 'practical', 'considerations', 'metals', 'hydroxide', 'chlorine', 'fluorine', 'chemicals', 'produced', 'methods', 'convert', 'scale', 'instruments', 'devices', 'carried', 'electrochemically', 'efficient', 'polluting', 'creating', 'technologies', 'ecofriendly', 'transmission', 'sensory', 'signals', 'brain', 'vice', 'versa', 'communication', 'origin', 'vast', 'interdisciplinary', 'elementary', 'class', 'xi', 'studied', 'functioning', 'daniell', 'converts', 'liberated', 'redox', 'zn', 'cu2', 'aq', 'zn2', 'cu', 'unity', 'dm', 'device', 'voltaic', 'electrodes', 'zinc', 'copper', 'dipping', 'respective', 'salts', 'external', 'voltage', 'eext', 'opposing', 'applied', 'opposite', 'slowly', 'continues', 'reaches', 'stops', 'altogether', 'current', 'flows', 'starts', 'direction', 'functions', 'salient', 'features', 'pages', 'strictly', 'speaking', 'activity', 'directly', 'proportional', 'dilute', 'classes', 'mentioned', 'converted', 'work', 'running', 'motor', 'gadgets', 'heater', 'fan', 'geyser', 'combination', 'half', 'addition', '2e', 'reduction', 'oxidation', 'portions', 'electrode', 'couples', 'construct', 'innumerable', 'pattern', 'taking', 'combinations', 'consists', 'metallic', 'dipped', 'electrolyte', 'connected', 'wire', 'voltmeter', 'switch', 'externally', 'electrolytes', 'internally', 'salt', 'bridge', 'dip', 'cases', 'require', 'interface', 'tendency', 'metal', 'deposit', 'trying', 'positively', 'charged', 'time', 'leave', 'electrons', 'negatively', 'separation', 'charges', 'depending', 'tendencies', 'respect', 'difference', 'develops', 'concentrations', 'species', 'involved', 'iupac', 'convention', 'potentials', 'takes', 'anode', 'cathode', 'exists', 'soon', 'position', 'flow', 'electron', 'measured', 'volts', 'electromotive', 'force', 'drawn', 'accepted', 'keep', 'left', 'right', 'representing', 'putting', 'vertical', 'double', 'hand', 'minus', 'ecell', 'eright', 'eleft', 'illustrated', '2ag', 'ag', 'seen', 'sum', 'silver', 'acts', 'eag', 'ecu2', 'individual', 'measure', 'arbitrarily', 'choose', 'pt', 'assigned', 'temperatures', 'corresponding', 'platinum', 'coated', 'black', 'acidic', 'pure', 'bubbled', 'reduced', 'oxidised', 'forms', 'maintained', 'implies', 'pressure', '298', 'constructed', 'reference', 'eɵr', 'eɵ', 'eɵl', '1m', '76', 'reverse', 'oxidise', 'alternatively', 'reduce', 'conditions', 'dissolve', 'hcl', 'nitric', 'acid', 'nitrate', 'view', 'written', 'obtain', 'e0r', 'e0l', '34v', 'gold', 'inert', 'participate', 'conduction', 'bromine', 'br2', 'br', 'extract', 'useful', 'selected', 'greater', 'stable', 'compared', 'highest', 'f2', 'fluoride', 'strongest', 'oxidising', 'agent', 'weakest', 'reducing', 'lithium', 'lowest', 'powerful', 'aqueous', 'top', 'bottom', 'power', 'extensively', 'determining', 'ph', 'solubility', 'product', 'thermodynamic', 'potentiometric', 'titrations', 'intext', 'determine', 'mg2', 'mg', 'store', 'sulphate', 'pot', 'consult', 'suggest', 'ferrous', 'suitable', 'assumed', 'previous', 'need', 'true', 'showed', 'mn', 'ne', 'solid', '314', 'jk', 'faraday', '96487', 'kelvin', 'h2o', 'liquid', 'couple', 'stronger', 'weaker', 'converting', 'natural', 'logarithm', 'eq', 'base', 'substituting', 'reduces', 'ni', 'ni2', 'bb', 'cc', 'dd', 'represent', '0001m', '130m', '21v', '96', 'circuit', 'closed', 'note', 'passes', 'keeps', 'increasing', 'decreasing', 'read', 'reading', 'attained', 'situation', 'kc', '298k', 'log', '1037', 'relationship', 'constants', 'difficult', '46', '92', '1015', 'electro', 'multiplied', 'charge', 'passed', 'reversibly', 'reversible', 'nf', 'rg', 'nfe', 'remembered', 'intensive', 'parameter', 'extensive', '2fe', '2cu', '4fe', 'reacting', 'rgɵ', 'nfeɵ', 'rgj', 'rt', 'ln', '1v', '21227', '212', 'kj', 'contact', '002', '160', '05', '236', 'conductance', 'resistance', 'symbol', 'ohm', 'si', 'kg', 'm2', 's3', 'a2', 'help', 'wheatstone', 'familiar', 'physics', 'object', 'length', 'inversely', 'area', 'cross', 'proportionality', 'greek', 'rho', 'specific', 'metre', 'submultiple', 'centimetre', 'cm', 'recommends', 'rest', 'book', 'physically', 'long', '100', '01', 'inverse', 'siemens', 'mho', 'kappa', 'recommended', 'material', 'noted', 'materials', 'magnitude', 'varies', 'great', 'deal', 'measurements', 'made', 'classified', 'conductors', 'insulators', 'semiconductors', 'alloys', 'graphite', 'organic', 'polymers', 'electronically', 'conducting', 'glass', 'ceramics', 'silicon', 'doped', 'gallium', 'arsenide', 'superconductors', 'definition', 'behave', 'nowadays', 'ceramic', 'mixed', 'oxides', 'superconductivity', '150', 'movement', 'structure', 'valence', 'atom', '1977', 'macdiarmid', 'heeger', 'shirakawa', 'discovered', 'acetylene', 'polymerised', 'polymer', 'polyacetylene', 'exposed', 'vapours', 'iodine', 'acquires', 'lustre', 'polyaniline', 'polypyrrole', 'polythiophene', 'composed', 'wholly', 'occasionally', 'sulphur', 'lighter', 'normal', 'light', 'weight', 'mechanical', 'flexibility', 'transistors', 'bend', 'sheet', 'plastic', 'discovery', 'awarded', 'nobel', 'prize', 'chemistry', 'year', '2000', 'enter', 'end', 'composition', 'conductor', 'remains', 'unchanged', 'mechanism', 'complex', 'amounts', 'hydroxyl', '7m', 'lend', 'dissolved', 'furnish', 'added', 'size', 'solvation', 'solvent', 'viscosity', 'passage', 'direct', 'prolonged', 'period', 'lead', 'accurate', 'unknown', 'performed', 'measuring', 'face', 'problems', 'firstly', 'passing', 'dc', 'changes', 'secondly', 'difficulty', 'resolved', 'alternating', 'ac', 'source', 'problem', 'solved', 'specially', 'designed', 'vessel', 'designs', 'simple', 'ones', 'basically', 'finely', 'divided', 'deposited', 'separated', 'distance', 'confined', 'column', 'denoted', 'dimension', 'inconvenient', 'unreliable', 'purpose', 'kcl', 'accurately', '15k', 'once', 'set', 'arrangement', 'resistances', 'r3', 'r4', 'variable', 'r1', 'r2', 'fed', 'oscillator', 'audio', 'frequency', '550', '5000', 'cycles', 'detector', 'headphone', 'balanced', 'days', 'inexpensive', 'meters', 'differs', 'dissociate', 'ease', 'move', 'gradient', 'meaningful', 'λm', 'lambda', '1000', 'm3', 'molarity', 'cm2', 'literature', 'equations', 'm2mol', '104', 'cm2mol', 'filled', '02', '520', '129', '248', '124', 'cm3', 'naoh', 'diameter', '50', '55', '103', '52', '785', '87', '135', '01148', '229', 'quantities', '148s', 'weak', 'strong', 'kept', 'clear', 'mole', 'compensated', 'accommodate', 'sufficient', 'approaches', 'limiting', 'c½', 'acetic', 'potassium', 'chloride', 'plot', 'c1', 'straight', 'intercept', 'slope', 'cation', 'anion', 'dissociation', 'nacl', 'cacl2', 'mgso4', 'mand', 'square', 'root', 'axis', 'nearly', 'examined', 'regularities', 'nax', 'kx', 'kbr', 'nabr', 'ki', 'nai', 'observations', 'enunciated', 'independent', 'migration', 'states', 'contributions', 'na', 'cl', 'cations', 'anions', 'conductivities', 'degree', 'λmincreases', 'steeply', 'especially', 'near', 'extrapolation', 'dissociates', 'approximated', 'ratio', 'calculateλ0m', 'λo', '119', '152', '271', '106', '266', 'naac', '126', '425', '91', 'hac', '390', '001028', '95', '48', '1233', '78', 'way', '025', 'methanoic', '349', 'hcoo', '54', 'processes', 'laboratory', 'industry', 'simplest', 'strips', 'discharge', 'industrial', 'impure', 'purity', 'dissolves', 'al', 'agents', 'magnesium', 'fused', 'chlorides', 'aluminium', 'xii', 'oxide', 'presence', 'cryolite', 'michael', 'scientist', 'now', 'laws', 'investigations', 'melts', 'published', '1833', 'melt', 'equivalent', 'weights', 'mass', 'sources', 'times', 'practice', 'put', 'coulometer', 'consumed', 'coulometers', 'obsolete', 'coloumbs', 'ampere', 'stoichiometry', '6021', '19c', '1023', 'approximate', 'calculations', '1f', '96500', '31', 'al3', '3e', '32', 'obvious', '2f', '3f', 'amperes', 'seconds', 'commercial', '000', '518', 'cuso4', 'electrolysed', 'minutes', '600', '900', '63', '2938', 'products', 'depend', 'sink', 'reactive', 'participates', 'feasible', 'slow', 'kinetically', 'voltages', 'extra', 'overpotential', 'makes', 'molten', 'cl2', '½cl2', 'competition', '71', '00', 'preferred', 'net', '½h2', '35', '36', '2h2o', '4h', '4e', '37', 'preference', 'summarised', 'replaced', 'effects', 'sulphuric', '38', '2so42', 's2o82', '39', 'h2so4', 'hours', 'list', 'extracted', 'electrolytically', 'cr2o72', '14h', '6e', '2cr3', '7h2o', 'coulombs', 'needed', 'battery', 'actually', 'series', 'reasonably', 'compact', 'vary', 'appreciably', 'mainly', 'dead', 'reused', 'dry', 'leclanche', 'discoverer', 'commonly', 'clocks', 'container', 'rod', 'surrounded', 'powdered', 'manganese', 'dioxide', 'space', 'moist', 'paste', 'ammonium', 'nh4cl', 'zncl2', 'approximately', 'mno2', 'nh4', 'mno', 'nh3', 'ammonia', 'mercury', 'hearing', 'aids', 'watches', 'amalgam', 'hgo', 'koh', 'zno', 'hg', '2oh', 'life', 'involve', 'recharged', 'undergo', 'discharging', 'charging', 'storage', 'automobiles', 'invertors', 'grid', 'packed', 'pbo2', 'pb', 'so42', 'pbso4', 'consisting', '2h2so4', '2pbso4', 'reversed', 'rechargeable', 'nickel', 'cadmium', 'jelly', 'roll', 'layer', 'soaked', 'longer', 'expensive', 'manufacture', 'details', 'working', 'cd', '2ni', 'cdo', 'thermal', 'plants', 'major', 'pollution', 'heat', 'combustion', 'fossil', 'fuels', 'coal', 'oil', 'steam', 'run', 'turbine', 'reactants', 'continuously', 'removed', 'compartment', 'methane', 'methanol', 'produces', 'successful', 'uses', 'apollo', 'programme', 'condensed', 'drinking', 'supply', 'astronauts', 'porous', 'concentrated', 'catalysts', 'palladium', 'incorporated', 'rate', '4oh', '2h2', '4h2o', 'runs', 'supplied', 'efficiency', '70', '40', 'tremendous', 'progress', 'development', 'experimental', 'free', 'future', 'variety', 'fabricated', 'tried', 'coats', 'surfaces', 'objects', 'rusting', 'iron', 'tarnishing', 'green', 'coating', 'bronze', 'examples', 'causes', 'enormous', 'damage', 'buildings', 'bridges', 'ships', 'lose', 'crores', 'rupees', 'atmosphere', 'loss', 'air', 'considered', 'essentially', 'phenomenon', 'spot', 'behaves', 'fe', 'fe2', 'anodic', 'believed', 'h2co3', 'dissolution', '2fe2', '67', 'atmospheric', 'ferric', 'rust', 'hydrated', 'fe2o3', 'prevention', 'prime', 'saves', 'money', 'helps', 'preventing', 'accidents', 'collapse', 'failure', 'key', 'component', 'prevent', 'covering', 'paint', 'bisphenol', 'sn', 'react', 'save', 'sacrificial', 'corrodes', 'recharging', 'highlighting', 'envisaged', 'setting', 'economy', 'driving', 'people', 'planet', 'aspire', 'improve', 'living', 'requirement', 'capita', 'consumption', 'course', 'productive', 'merely', 'wasted', 'aware', 'resulting', 'greenhouse', 'leading', 'earth', 'causing', 'polar', 'ice', 'ocean', 'levels', 'flood', 'lying', 'areas', 'coast', 'island', 'nations', 'maldives', 'submergence', 'avoid', 'catastrope', 'limit', 'carbonaceous', 'ideal', 'alternative', 'splitting', 'solar', 'renewable', 'vision', 'principles', 'thechemical', 'eɵcathode', 'eɵanode', 'dependence', 'steep', 'contribution', 'conduct', 'relevant', 'exercise', 'arrange', 'displace', '93v', '80v', 'hg2', '79v', 'cr3', 'cr', '74v', 'depict', 'carriers', '2cr', '3cd2', '3cd', 'fe3', '001m', '0001', '1bar', 'sn2', '050', '020', '010', '030', 'button', 'widely', 'ag2o', 'gɵ', 'discuss', '0248', '1500', '146', '001', '102', '237', '85', '53', '74', 'draw', '00241', '896', 'reductions', 'mno4', 'mn2', 'ca', 'al2o3', 'coulomb', 'feo', 'no3', 'znso4', 'agno3', 'steady', '45', 'predict', 'cucl2', 'answers', 'kjmol', '62', '107', '114', 'proton', 'neutron', 'characteristics', 'thomson', 'rutherford', 'bohr', 'models', 'quantum', 'model', 'electromagnetic', 'radiation', 'planck', 'theory', 'photoelectric', 'spectra', 'de', 'broglie', 'heisenberg', 'uncertainty', 'principle', 'orbital', 'numbers', 'aufbau', 'pauli', 'exclusion', 'hund', 'rule', 'multiplicity', 'configurations', 'rich', 'diversity', 'traced', 'differences', 'internal', 'existence', 'proposed', 'early', 'indian', 'philosophers', '400', 'fundamental', 'building', 'blocks', 'matter', 'continued', 'subdivisions', 'ultimately', 'yield', 'divisible', 'word', 'derived', 'tomio', 'uncut', 'ideas', 'mere', 'speculations', 'test', 'experimentally', 'remained', 'dormant', 'revived', 'scientists', 'nineteenth', 'century', 'firm', 'scientific', 'john', 'dalton', 'british', 'school', 'teacher', '1808', 'regarded', 'ultimate', 'particle', 'conservation', 'multiple', 'proportion', 'successfully', 'failed', 'experiments', 'ebonite', 'rubbed', 'silk', 'fur', 'electrically', 'start', 'beginning', 'twentieth', 'established', 'sub', 'particles', 'protons', 'neutrons', 'concept', 'insight', 'mind', 'basic', 'repel', 'attract', '1830', 'occurred', 'resulted', 'liberation', 'deposition', 'formulated', 'suggested', 'particulate', 'mid', '1850s', 'began', 'partially', 'evacuated', 'tubes', 'ray', 'depicted', 'tube', 'thin', 'pieces', 'sealed', 'pressures', 'adjusted', 'evacuation', 'sufficiently', 'across', 'flowing', 'stream', 'moving', 'rays', 'checked', 'hole', 'phosphorescent', 'sulphide', 'strike', 'bright', 'developed', 'perforated', 'visible', 'kind', 'fluorescent', 'glow', 'hit', 'television', 'picture', 'pictures', 'fluorescence', 'screen', 'absence', 'magnetic', 'field', 'travel', 'lines', 'similar', 'expected', 'suggesting', 'consist', 'conclude', 'constituent', '1897', 'physicist', 'applying', 'perpendicular', 'path', 'electric', 'deviate', 'strikes', 'carefully', 'balancing', 'strength', 'back', 'followed', 'argued', 'deviation', 'interaction', 'deflection', 'original', 'carrying', 'deflections', 'millikan', '1868', '1953', 'devised', 'drop', 'experiment', '1906', '602176', 'combining', 'apparatus', 'modified', 'led', 'canal', 'listed', 'simply', 'originate', 'smallest', 'lightest', 'characterised', '1919', 'later', 'felt', 'neutral', 'chadwick', '1932', 'bombarding', 'beryllium', 'slightly', 'emitted', 'named', 'sections', 'indivisible', 'stability', 'compare', 'kinds', 'absorbed', 'droplets', 'mist', 'atomiser', 'allowed', 'tiny', 'upper', 'plate', 'condenser', 'motion', 'viewed', 'telescope', 'equipped', 'micrometer', 'eye', 'piece', 'fall', 'inside', 'chamber', 'ionized', 'beam', 'acquired', 'collisions', 'retarded', 'accelerated', 'stationary', 'polarity', 'concluded', 'integral', 'forces', 'acting', 'gravitational', 'electrostatic', 'viscous', 'drag', 'distributions', 'ernest', '1898', 'possesses', 'spherical', 'shape', 'radius', 'uniformly', 'distributed', 'embedded', 'manner', 'names', 'plum', 'pudding', 'raisin', 'watermelon', 'visualised', 'plums', 'seeds', 'feature', 'neutrality', 'consistent', 'wilhalm', 'röentgen', '1845', '1923', '1895', 'cause', 'placed', 'name', 'still', 'noticed', 'effectively', 'dense', 'targets', 'deflected', 'fields', 'penetrating', 'reason', 'interior', 'short', 'wavelengths', 'nm', 'possess', 'character', 'henri', 'becqueral', '1852', '1908', 'emit', 'radioactivity', 'radioactive', 'marie', 'curie', 'piere', 'fredrick', 'soddy', 'helium', 'nuclei', 'combined', 'yielded', 'radiations', 'regards', 'least', 'nuclear', 'students', 'hans', 'geiger', 'marsden', 'bombarded', 'foil', 'famous', 'scattering', 'directed', 'thickness', 'circular', 'struck', 'flash', 'schematic', 'molecular', 'alpha', 'shot', 'pass', 'unexpected', 'spread', 'evenly', 'entire', 'uniform', 'distribution', 'directions', 'angles', 'undeflected', 'fraction', 'bounced', '180', 'drew', 'conclusions', 'empty', 'repulsive', 'showing', 'presumed', 'repelled', 'occupied', 'nucleus', 'negligibly', 'appreciate', 'realising', 'cricket', 'ball', 'represents', 'km', 'densely', 'extremely', 'region', 'portion', 'speed', 'paths', 'orbits', 'resembles', 'plays', 'role', 'sun', 'revolving', 'planets', 'held', 'attraction', 'nuetral', 'collectively', 'nucleons', 'termed', 'isobars', 'isotopes', 'element', 'super', 'script', 'subscript', 'az', '614c', '714n', 'identical', 'words', 'evident', '99', '985', 'contain', 'isotope', 'protium', '11h', 'percentage', 'deuterium', '12d', '015', 'possessing', 'tritium', '13t', 'trace', 'occuring', 'lastly', 'mention', 'controlled', 'little', '80', 'assign', 'proper', 'excess', 'notation', 'valid', 'larger', 'smaller', 'drawbacks', 'learnt', 'playing', 'massive', 'classical', 'mechanics', 'expression', 'm1', 'masses', 'precisely', 'planetary', 'agreement', 'similarity', 'suggests', 'kq1q2', 'q1', 'q2', 'mathematically', 'body', 'orbit', 'undergoes', 'acceleration', 'changing', 'maxwell', 'exist', 'uncharged', 'comes', 'continue', 'shrink', 'spiral', 'happen', 'ask', 'instability', 'pull', 'forma', 'miniature', 'version', 'science', 'newton', 'specifies', 'macroscopic', 'drawback', 'says', 'energies', 'developments', 'historically', 'studies', 'interactions', 'immense', 'neils', 'utilised', 'played', 'formulation', 'dual', 'wave', 'duel', 'physicists', 'actively', 'absorption', 'emission', 'heated', 'waves', 'frequencies', 'modern', 'concepts', 'active', 'occured', '1850', 'accelerating', '1870', 'james', 'clerk', 'confirmed', 'heinrich', 'hertz', 'comprehensive', 'explanation', 'bodies', 'level', 'moves', 'accelaration', 'transmitted', 'speculation', 'dates', 'remote', 'ancient', 'supposed', 'corpuscules', '19th', 'components', 'wavelength', 'amplitude', 'vibrate', 'mutually', 'planes', 'reveal', 'associated', 'oscillating', 'propagation', 'simplified', 'sound', 'medium', 'vacuum', 'differ', 'constitute', 'spectrum', 'regions', 'identified', 'radio', 'hz', 'broadcasting', 'microwave', '1010', 'radar', 'infrared', '1013', 'heating', 'ultraviolet', '1016hz', 'ordinarily', 'part', 'eyes', 'see', 'detect', 'special', 'namely', 'meter', 'vaccum', 'regardless', '108', '997925', 'precise', 'velocity', 'spectroscopy', 'wavenumber', 'reciprocal', 'vividh', 'bharati', 'station', 'india', 'delhi', 'broadcasts', '368', 'khz', 'kilo', 'transmitter', 'belong', 'characteristic', 'radiowave', 'extends', 'violet', 'red', '750', 'express', '1nm', '1014', 'yellow', '5800', 'diffraction', 'interference', 'electromagentic', 'hot', 'ejection', 'capacity', 'function', 'bending', 'obstacle', 'algebraic', 'vector', 'disturbances', 'interfering', 'phenomena', 'discrete', 'radiated', 'noteworthy', 'concrete', 'max', '1900', 'let', 'try', 'wide', 'appreciable', 'raised', 'blue', 'generated', 'furnace', 'turns', 'dull', 'progressively', 'white', 'intense', 'intensities', 'late', 'irradiated', 'radiant', 'reflected', 'incomplete', 'ordinary', 'imperfect', 'absorbers', 'emits', 'absorbs', 'approximates', 'fairly', 'closely', 'approximation', 'cavity', 'opening', 'entering', 'walls', 'eventually', 'perfect', 'radiator', 'surroundings', 'radiates', 'surrounding', 'intensity', 'spectral', 'maxima', 'curve', 'shifts', 'attempts', 'satisfactorily', 'arrived', 'satisfactory', 'assumption', 'emmission', 'arises', 'wall', 'oscillation', 'changed', 'oscilators', 'chunks', 'absorb', 'continuous', 'gave', 'hυ', '626', 'quantisation', 'standing', 'staircase', 'person', 'stand', 'step', 'steps', '2hυ', '3hυ', 'nhυ', 'equipment', 'clean', 'ejected', 'counted', 'measures', 'kinetic', '1858', '1947', 'german', 'received', 'university', 'munich', '1879', '1888', 'appointed', 'director', 'institute', 'berlin', '1918', 'significant', 'thermodynamics', '1887', 'interesting', 'rubidium', 'caesium', 'lag', 'striking', 'brightness', 'minimum', 'ν0', 'threshold', 'content', 'shine', 'photoelectrons', 'shines', 'w0', 'ev', '42', 'einstein', '1905', 'starting', 'shining', 'shooting', 'photons', 'photon', 'transfers', 'instantaneously', 'collision', 'delay', 'possessed', 'transfer', 'hν', 'eject', 'hν0', 'transferred', 'photoelectron', 'employed', 'albert', '1955', 'born', 'american', 'world', 'isaac', 'research', 'papers', 'relativity', 'brownian', 'technical', 'assistant', 'swiss', 'patent', 'office', 'berne', 'profoundly', 'influenced', '1921', 'posed', 'dilemma', 'resolve', 'accept', 'idea', 'interacts', 'displays', 'contrast', 'wavelike', 'exhibits', 'propagates', 'totally', 'alien', 'thought', 'took', 'convinced', 'validity', 'microscopic', 'exhibit', 'duality', '313', '022', '199', '51', 'watt', 'bulb', 'monochromatic', 'hc', '300', 'falls', '68', '105', 'remove', '517', 'corresponds', 'hits', 'mev2', '988', 'evidence', 'quantized', 'deviated', 'refracted', 'prism', 'shorter', 'bends', 'coloured', 'bands', 'colour', 'longest', 'shortest', 'ranges', 'merges', 'rainbow', 'sky', 'remember', 'reach', 'unstable', 'returning', 'excited', 'sample', 'irradiating', 'recorded', 'photographic', 'continuum', 'missing', 'dark', 'spaces', 'referred', 'phase', 'appearance', 'page', 'interest', 'unique', 'analysis', 'identify', 'fingerprints', 'exact', 'matching', 'quickly', 'establishes', 'identity', 'chemist', 'robert', 'bunsen', '1811', '1899', 'investigators', 'rb', 'cs', 'thallium', 'tl', 'indium', 'ga', 'scandium', 'sc', 'minerals', 'analysed', 'spectroscopic', 'energetically', 'discoverers', 'balmer', '1885', 'obey', 'formula', 'restriction', 'quantization', 'recording', 'reasonable', 'single', 'collection', 'responsible', 'unexcited', 'slit', 'lacking', 'integer', 'regionof', 'swedish', 'spectroscopist', 'johannes', 'rydberg', 'followingexpression', 'n1', 'n2', '109', '677', 'correspond', 'lyman', 'paschen', 'bracket', 'pfund', 'transitions', 'heavier', 'common', 'regularity', 'arise', 'reasons', 'similarities', 'answered', 'understanding', 'diagram', '1913', 'quantitatively', 'rationalize', 'points', 'postulates', 'fixed', 'arranged', 'concentrically', 'angular', 'momentum', 'just', 'linear', 'moment', 'inertia', 'mer2', 'mevr', 'transition', 'e1', 'e2', 'quantised', '2π', 'obsorbed', 'derivation', 'complicated', 'numbered', 'principal', 'radii', 'rn', 'a0', 'pm', 'normally', 'away', 'rh', 'ground', '18j', '545', 'depicts', 'representation', 'niels', '1962', 'danish', 'copenhagen', '1911', 'spent', 'england', 'returned', '1920', 'war', 'worked', 'peaceful', 'peace', 'award', '1957', '1922', 'influence', 'attracted', 'lowered', 'sign', 'relative', 'en', 'mean', 'convey', 'infinitely', 'far', 'infinity', 'closer', 'absolute', 'call', 'li2', 'be3', 'tightly', 'bound', 'velocities', 'qualitatively', 'gap', 'ef', 'ei', 'evaluated', 'parenthesis', 'empirically', 'limitations', 'doubt', 'improvement', 'fails', 'finer', 'doublet', 'spaced', 'sophisticated', 'techniques', 'unable', 'zeeman', 'stark', 'ability', 'bonds', 'needs', 'shortcoming', 'develop', 'contributed', 'significantly', 'french', '1924', 'analogy', 'louis', '1892', '1987', 'history', 'undergraduate', '1910', 'turned', 'assignment', 'communications', 'dr', 'paris', 'professor', 'untill', 'retirement', '1929', 'prediction', 'microscope', 'utilises', 'tool', 'achieves', 'magnification', 'million', 'detected', 'subatomic', 'prove', 'brogile', 'werner', '1927', 'stated', 'consequence', 'impossible', 'simultaneously', 'px', 'vx', 'accuracy', 'uncertain', 'outcome', 'fuzzy', 'blur', 'best', 'understood', 'suppose', 'asked', 'paper', 'unmarked', 'metrestick', 'obviously', 'inaccurate', 'meaningless', 'instrument', 'graduated', 'analogously', 'meterstick', 'calibrated', 'dimensions', 'dimensionless', 'observe', 'illuminate', 'significance', 'implications', 'rules', 'definite', 'trajectories', 'trajectory', 'location', 'moments', 'instant', 'tell', 'fix', 'arbitrary', 'precision', 'talk', 'negligible', '1901', '1976', 'gottingen', 'years', 'leipzig', '1941', 'bomb', 'accomplished', 'mountain', 'climber', 'milligram', 'insignificant', 'dealing', 'sized', 'uncertainties', 'real', 'tries', 'hold', 'statements', 'probability', 'happens', 'locate', '579', '1j', '79', 'golf', '40g', '1018', 'typical', 'sets', 'clearly', 'exactly', 'ignores', 'contradicts', 'inherent', 'weaknesses', 'extending', 'came', 'advent', 'erwin', 'schrödinger', '1961', 'austrian', 'vienna', 'succeeded', 'request', '1933', 'opposition', 'hitler', 'nazi', 'policies', 'austria', '1936', 'invasion', 'germany', 'forcibly', 'professorship', 'moved', 'dublin', 'ireland', 'seventeen', 'shared', 'dirac', 'falling', 'stone', 'orbiting', 'branch', 'deals', 'motions', 'observable', 'independently', '1926', 'discussing', 'incorporates', 'knowledge', 'mathematics', 'solve', 'systems', 'mathematical', 'operator', 'hamiltonian', 'recipe', 'constructing', 'attractive', 'individually', 'occupy', 'characterized', 'azimuthal', 'ml', 'coordinates', 'meaning', 'orbitals', 'pertaining', 'finding', 'including', 'application', 'multi', 'presents', 'overcome', 'computers', 'radical', 'lies', 'contracted', 'subsections', 'emerges', 'talks', 'occupies', 'stored', 'density', 'distinguished', 'orientation', 'chance', 'designated', 'labelled', 'determines', 'extent', 'identifies', 'shell', 'letters', 'located', 'shifting', 'subsidiary', 'defines', 'dimensional', 'ranging', 'shells', 'third', 'symbols', 'permissible', 'spatial', 'ordinate', '2l', 'permitted', 'subshell', 'notations', 'chart', 'spin', 'labelling', 'equally', 'doublets', 'triplets', 'predicted', '1925', 'george', 'uhlenbeck', 'samuel', 'goudsmit', 'fourth', 'ms', 'spins', 'intrinsic', 'orientations', 'chosen', 'arrows', 'subshells', 'nth', 'designates', 'ways', 'oriented', 'refers', 'synonymous', 'description', 'demonstrated', 'yields', 'specifying', 'probable', '3s', '3p', '3d', 'shapes', 'plots', '1s', '2s', 'ψ2', 'curves', 'sharply', 'reaching', 'nodal', 'nodes', 'ns', 'cloud', 'diagrams', 'dots', 'boundary', 'contour', 'encloses', '90', 'question', 'bounds', 'answer', 'howsoever', 'finite', 'rigid', 'sphere', 'centred', 'looks', 'circle', 'reality', 'spherically', 'symmetric', '4s', '2p', 'lobes', 'plane', 'touch', 'lie', 'designations', '2px', '2py', '2pz', 'axes', '4p', 'radial', 'node', 'dxy', 'dyz', 'dxz', 'dx2', 'y2', 'dz2', 'fifth', '4d', '5d', 'np', 'nd', 'pz', 'xy', 'bisecting', 'solely', '4f', 'degenerate', 'condition', 'residing', 'strongly', 'pronounced', 'straggering', '6s', '6p', 'mutual', 'repulsion', 'outer', 'inner', 'ze', 'experience', 'full', 'partial', 'screening', 'shielding', 'experienced', 'effective', 'zeff', 'shaped', 'shields', 'shield', 'spends', 'close', 'comparison', 'vicinity', 'turn', 'illustrates', 'e2s', 'filling', 'affected', 'ordering', 'universally', 'correct', '5s', '5p', '7s', 'placement', 'outermost', 'remarkably', 'sequence', 'rough', 'guide', 'exceptions', 'restricted', 'wolfgang', 'only', 'imposed', 'comprises', 'summed', '2n2', 'belonging', 'pairing', 'singly', 'entry', '4th', '6th', '8th', 'fully', 'acquire', 'symmetry', 'configuration', 'govern', 'sa', 'pbdc', 'letter', 'differentiated', 'writing', 'box', 'arrow', 'advantage', 'goes', '1s1', '1s2', 'next', 'choice', '1s22s1', '2s2', '66', 'boron', '1s22s22p1', '1s22s22p2', '1s22s22p3', '1s22s22p4', '1s22s22p5', 'neon', '1s22s22p6', 'completed', '1s22s22p63s1', 'argon', 'ar', '1s22s22p63s23p6', 'follow', '3s1', '3s23p6', 'core', 'calcium', 'titanium', 'ti', 'vanadium', 'chromium', 'cobalt', 'puzzled', 'p3', 'p6', 'd5', 'd10', 'f14', 'adopt', 'caution', 'saturation', 'complete', 'krypton', 'kr', 'eighteen', 'xenon', 'xe', 'barium', 'ba', 'lanthanum', 'la', 'finally', '5f', '6d', 'uranium', 'lived', 'artificially', 'tabulated', 'utility', 'knowing', 'approach', 'infact', 'entirely', 'combine', 'halogens', 'daltonian', 'detailed', 'essential', 'shift', '3d5', '4s1', '3d10', '3d4', '4s2', '3d9', 'symmetrical', 'exchange', 'stabilizing', 'tend', 'positions', 'exchanges', 'parallel', 'coulombic', 'dealt', 'exceptional', '112', 'reported', 'authenticated', 'parts', 'chemically', 'proved', 'proposal', 'wrong', '1909', 'centre', 'silent', 'difficulties', 'postulated', 'offering', 'explaining', 'ignored', 'restrictions', 'naturally', 'predicts', 'accordance', 'exercises', 'weigh', 'gram', '14c', 'assume', '675', 'stp', '233', 'lamp', '580', '4000', '6020', '242', 'ionise', 'ionisation', '57µm', 'quanta', '6800', 'ionization', 'enthalpy', 'drops', 'joules', 'returns', 'ergs', 'isoelectronic', 'ca2', 's2', '2p3', '3p5', '2s1', '3s2', '3p3', '3d1', 'allows', 'deduce', '1p', 'giving', 'circumference', 'he2', 'lengthwise', 'carries', '16c', 'static', 'milikan', '282', '18c', 'heavy', '41', '79br', '35br', 'acceptable', 'briefly', '81', '43', 'conatins', '44', '56', 'oven', 'amber', 'traffic', 'signal', 'fm', 'cosmic', 'laser', '337', '1024', '47', 'boards', '616', 'traveled', 'astronomical', 'distant', 'stars', 'receives', '49', 'lifetimes', 'pulsed', 'duration', 'nano', 'pulse', '589', 'calcualte', '500', '450', '256', 'tis', 'represeted', '1285', '3225', 'ends', '211', 'belongs', '57', 'magnified', 'images', 'biological', '58', 'determination', '800', '59', '60', 'hockey', '61', '4πm', 'defining', 'lists', 'experiences', '64', 'pairs', '65', 'unpaired', 'balance', 'intermolecular', 'governing', 'situations', 'liquifaction', 'realise', 'continuity', 'liquids', 'attractions', 'snowflake', 'lays', 'feath', 'ry', 'grasp', 'mother', 'vapors', 'waters', 'tumbling', 'rocky', 'connor', 'introduction', 'bulk', 'boil', 'boils', 'wetting', 'wet', 'vapour', 'aggregate', 'begin', 'interacting', 'include', 'oppositely', 'covalent', 'van', 'der', 'waals', 'honour', 'dutch', '1837', 'considerably', 'dispersion', 'london', 'dipole', 'induced', 'bonding', 'bond', 'treated', 'separate', 'category', 'nonpolar', 'symmetrically', 'momentarily', '1a', 'unsymmetrical', 'instantaneous', 'transient', 'distorts', 'temporary', 'dipoles', 'fritz', 'sixth', 'r6', 'distances', 'polarisability', 'act', 'permanent', 'delta', 'interact', 'neighbouring', 'rotating', 'cumulative', 'operate', 'induces', 'deforming', 'polarized', 'limited', 'compounds', 'proteins', 'nucleic', 'acids', 'lone', 'pair', 'electronegative', 'exert', 'brought', 'clouds', 'play', 'rises', 'rapidly', 'separating', 'hard', 'compress', 'resist', 'compression', 'arising', 'averagekinetic', 'tends', 'cling', 'lowering', 'liquify', 'liquified', 'predominance', 'remain', 'immersed', 'mixture', 'spend', 'lowermost', 'troposphere', 'vital', 'harmful', 'dioxygen', 'dinitrogen', 'focus', 'attention', 'look', 'periodic', 'eleven', 'compressible', 'mix', 'proportions', 'simplicity', 'governed', 'relationships', 'measurable', 'variables', 'interdependence', 'centuries', 'reliable', 'anglo', 'irish', 'boyle', '1662', 'fly', 'balloons', 'motivated', 'jaccques', 'charles', 'joseph', 'lewis', 'gay', 'lussac', 'discover', 'additional', 'avogadro', 'reached', 'conclusion', 'moles', 'k1', 'rearranging', 'pv', 'occupying', 'v1', 'p1', 'expansion', 'v2', 'p2', 'graph', 'figure', 'conventional', 'graphically', 'presenting', 'isotherm', 'doubles', 'halved', '09', 'co2', 'compressed', 'denser', 'pa', '89', 'balloon', 'room', 'burst', 'exceeds', 'upto', 'expanded', 'p1v1', 'p2v2', 'bursts', 'technology', 'cooling', 'volumes', 'v0', 'vt', 'stage', '273', 'byt0', 'celsius', 'works', 'add', 'tt', 't0', 'k2', 'remaining', 'intercepts', 'slopes', 'meet', 'isobar', 'interpreted', 'hypothetical', 'imaginary', 'ship', 'sailing', 'pacific', 't2', 't1', '299', '296', '009', '018l', 'inflated', 'tyres', 'summer', 'day', 'tyre', 'properly', 'winters', 'cold', 'morning', 'vehicle', 'decreased', 'isochore', 'isochores', 'italian', 'amedeo', 'pascal', 'freezing', 'sea', '71098', 'litres', 'argoncarbon', 'dioxidedinitrogendioxygendihydrogenideal', '5422', '6922', '72', 'investigation', 'k4', 'rearranged', 'k4d', 'applies', 'decade', 'old', 'denotes', 'atm', '101', '325', 'kpa', '413996', 'ambient', 'satp', '789', 'practically', 'deviations', 'universal', 'applicable', '710981', 'valueof', 'conditionsas', '20578', 'simultaneous', '760', 'mm', 'height', '640', '283', '1801', 'exerted', 'enclosed', 'separately', 'ptotal', 'collected', 'subtracting', 'saturated', 'tension', 'pdry', 'n3', 'x1', 'x2', 'x3', 'pi', 'ith', '167', 'cylinder', '75', 'speeds', 'collide', 'redistribution', 'average', 'u1', 'u2', 'un', 'uav', 'boltzmann', 'actual', 'distributionof', 'ump', 'broadens', 'broadening', 'slower', 'faster', 'translational', 'urms', '128', '224', 'concise', 'careful', 'aspect', 'tells', 'behaving', 'curious', 'mental', 'enables', 'elucidate', 'assumptions', 'explains', 'compressibility', 'support', 'expand', 'random', 'perfectly', 'elastic', 'colliding', 'settle', 'contrary', 'expect', 'initial', 'disrupt', 'uniformity', 'constantly', 'circumstances', 'frequently', 'exerting', 'theoretically', 'predictions', 'agree', 'establish', 'correctness', 'theoritical', 'nrt', 'reproduce', 'relationshipof', 'dihydrogen', 'monoxide', 'crosses', 'apparent', 'coincide', 'ideality', 'cooled', 'squashing', 'theoritically', 'boyles', 'operating', 'impact', 'dragged', 'affects', 'impenetrable', 'spheres', 'nb', 'corrections', 'rewrite', 'captured', 'factor', 'deviates', 'intermediate', 'neglected', 'obeys', 'feeble', 'distinguish', 'continuation', 'isotherms', 'predicting', 'relations', 'thomas', 'andrews', 'plotted', 'considerable', '98', '73', 'critical', 'tc', 'vc', 'pc', 'compresses', 'slight', 'coexist', 'condensation', 'v3', 'trend', 'horizontal', 'dome', 'isothermal', 'discussion', 'liquification', 'requires', 'brings', 'slows', 'liquifies', 'infig', 'vertically', 'compressing', 'fluid', 'recognise', 'phases', 'distinguishing', 'imperceptibly', 'disappears', '405', '304', 'past', 'freely', 'poured', 'evaporates', 'fill', 'initially', 'vapourisation', 'dependent', 'reporting', 'open', 'vapourises', 'boiling', '155', '373', '372', 'altitudes', 'hills', 'cooker', 'cooking', 'food', 'hospitals', 'surgical', 'sterilized', 'autoclaves', 'vent', 'expands', 'bead', 'spreading', 'soil', 'river', 'stick', 'capillary', 'touches', 'caused', 'sides', 'minimize', 'pulling', 'expenditure', 'gamma', 'satisfies', 'sharp', 'edges', 'smooth', 'rounded', 'fire', 'polishing', 'film', 'grains', 'pulled', 'stretching', 'flat', 'flattened', 'gravity', 'environments', 'effectiveness', 'friction', 'layers', 'slip', 'regular', 'gradation', 'laminar', 'accelerates', 'retards', 'dz', 'du', 'maintain', 'coefficient', '1kg', 'cgs', 'poise', 'jean', 'louise', 'poiseuille', 'resemble', 'reactivity', 'isobaric', 'dm3', '200', '120', 'introduced', 'flask', 'drain', 'cleaner', 'drainex', 'bits', 'aluminum', 'caustic', 'soda', '15g', 'reacts', 'contained', '1l', 'phosphorus', 'weighs', '0625', '546', 'student', 'forgot', 'round', 'bottomed', 'flame', 'lapse', 'realized', 'mistake', 'pyrometer', '477', 'expelled', '083', 'distribute', 'wheat', 'pay', 'load', 'displaced', '184', '2t', 'parameters', 'kinetics', 'molecularity', 'catalyst', 'integrated', 'zeroth', 'concerned', 'chemists', 'feasibility', 'factors', 'controlling', 'spoiled', 'design', 'dental', 'controls', 'burns', 'auto', 'engine', 'rates', 'mechanisms', 'kinesis', 'diamond', 'conversion', 'perceptible', 'think', 'altered', 'affect', 'interested', 'reacted', 'involving', 'undergoing', 'affecting', 'fast', 'precipitation', 'mixing', 'moisture', 'inversion', 'cane', 'sugar', 'hydrolysis', 'starch', 'moderate', 'automobile', 'covered', 'reactant', 'assuming', 'brackets', 'expressions', 'disappearance', 'rav', 'c4h9cl', 'butyl', 'c4h9oh', 'intervals', 'dividing', 'interval', 'dt', 'infinitesimally', 'drawing', 'tangent', 'rinst', '600s', 'plotting', '250', '350', 'hgcl2', 'stoichiometric', 'coefficients', 'hi', 'decompose', 'i2', '2hi', 'expressing', 'twice', 'bro3', 'decomposition', 'n2o5', 'ccl4', '318k', 'monitoring', '1and', '08', 'no2', 'min', '1h', '07', '1min', '60s', '03m', '02m', '2a', 'influencing', 'aa', 'exponents', '4a', '4b', 'differential', 'relates', '2no', '2no2', 'keeping', 'looking', 'doubled', '096', '384', 'sensitive', 'powers', 'rarely', 'consecutive', 'ethane', 'alcohol', 'aldehyde', 'nitration', 'phenol', 'nitrophenol', 'unimolecular', 'nitrite', 'nh4no2', 'bimolecular', 'iodide', 'trimolecular', 'termolecular', 'rare', 'kclo3', '6feso4', '3h2so4', '3fe2', 'so4', '3h2o', 'apparently', 'tenth', 'chances', 'win', 'relay', 'race', 'team', 'slowest', 'peroxide', 'catalysed', 'alkaline', '2h2o2', 'h2o2', 'evidences', 'io', 'convenient', 'integrate', 'orders', 'integrating', 'integration', 'kt', 'comparing', 'mx', 'simplifying', 'uncommon', 'enzyme', 'alter', 'kt1', 'kt2', 'antilog', '303', 'hydrogenation', 'ethene', 'c2h4', 'c2h6', 'refer', 'appendix', 'logarithms', 'artificial', 'decay', 'ra', 'n2o', '2o2', '318', '0304', '2pi', '2x', 'n2o4', '2pt', '512', '476', 'readily', '1013s', 'completion', '999', '909', '693', 'summarises', 'ethyl', 'acetate', 'ch3cooc2h5', 'ch3cooh', 'c2h5oh', 'pseudo', 'c12h22o11', 'c6h12o6', 'glucose', 'fructose', 'so2cl2', '50oc', '25oc', '0oc', 'permanganate', 'kmno4', 'oxalic', 'h2c2o4', 'decolourised', 'arrhenius', 'hoff', 'justification', 'interpretation', 'ea', 'exponential', 'activation', 'breaks', 'activated', 'coordinate', 'profile', 'decomposes', 'final', 'ludwig', 'clark', 'statistics', 'nt', 'ntis', 'peak', 'spreads', 'mark', 'doubling', '500k', '700k', '02s', '07s', '1respectively', '544', '714', '18230', 'ae', '012', 'c2h5i', '600k', '209', '796', '599', '197', 'catalyses', '2kclo3', '3o2', 'raction', 'inhibitor', 'action', 'forming', 'transitory', 'alternate', 'pathway', 'barrier', 'catalyse', 'attaining', 'forward', 'backward', 'trautz', 'william', '1916', 'energetic', 'mechanistic', 'zab', 'rtrepresents', 'facilitate', 'breaking', 'bromoethane', 'improper', 'bounce', 'steric', 'criteria', 'considers', 'structural', 'theories', '10k', '581k', 'rearrangement', 'intermediates', 'lowers', 'contributes', 'modifying', '3no', '3i', '2h', 'ch3cho', 'ch4', 'c2h5cl', 'a2b', 'l2', '06', 'dimethyl', 'ether', 'ch3och3', 'r0', 'blanks', '5730', 'archaeological', 'artifact', 'wood', 'tree', 'estimate', 'age', '2n2o5', '4no2', 'vi', '16th', 'explosion', '90sr', '1µg', 'bones', 'newly', 'baby', 'lost', 'metabolically', 'azoisopropane', 'hexane', '543', 'hydrocarbons', '418', '179', 'sucrose', 'hydrocarbon', '1011s', '28000k', '104k', '104s', '308k', '1010s', 'quadruples', '293', 'diappearance', '005', 'litre', '444', '925', '897', '471', 'classify', 'mixtures', 'figures', 'cent', 'constituting', 'compound', 'empirical', 'perform', 'hundred', 'built', 'roald', 'hoffmann', 'continuing', 'human', 'effort', 'systematise', 'diverse', 'daily', 'curd', 'milk', 'vinegar', 'sugarcane', 'juice', 'sake', 'convenience', 'disciplines', 'biology', 'geology', 'preparation', 'today', 'discipline', 'search', 'philosopher', 'paras', 'baser', 'elexir', 'grant', 'immortality', 'walks', 'alchemy', 'iatrochemistry', '1300', '1600', 'ce', '18th', 'europe', 'alchemical', 'traditions', 'arabs', 'cultures', 'chinese', 'included', 'rasayan', 'shastra', 'rastantra', 'ras', 'kriya', 'rasvidya', 'metallurgy', 'medicine', 'cosmetics', 'dyes', 'systematic', 'excavations', 'mohenjodaro', 'sindh', 'harappa', 'punjab', 'story', 'findings', 'baked', 'bricks', 'pottery', 'earliest', 'moulded', 'subjected', 'achieve', 'desirable', 'qualities', 'glazed', 'gypsum', 'cement', 'lime', 'sand', 'traces', 'caco3', 'harappans', 'faience', 'sort', 'ornaments', 'melted', 'forged', 'improved', 'hardness', 'artefacts', 'tin', 'arsenic', 'maski', 'south', 'bce', 'hastinapur', 'taxila', 'north', 'glazes', 'colouring', 'chalcolithic', 'thesubcontinent', 'archeological', 'extraction', 'indigenously', 'rigveda', 'tanning', 'leather', 'dying', 'cotton', 'practised', 'golden', 'gloss', 'polished', 'ware', 'northen', 'replicated', 'mystery', 'wares', 'mastery', 'kiln', 'kautilya', 'arthashastra', 'vedic', 'utensils', 'terracotta', 'discs', 'painted', 'grey', 'sites', 'sushruta', 'samhita', 'alkalies', 'charaka', 'mentions', 'indians', 'knew', 'prepare', 'sulphates', 'carbonates', 'rasopanishada', 'gunpowder', 'tamil', 'texts', 'fireworks', 'charcoal', 'saltpetre', 'camphor', 'nagarjuna', 'reputed', 'alchemist', 'metallurgist', 'rasratnakar', 'rsarnavam', 'discusses', 'furnaces', 'ovens', 'crucibles', 'purposes', 'chakrapani', 'credit', 'inventing', 'soap', 'mustard', 'ingredients', 'soaps', 'eranda', 'mahua', 'plant', 'carbonate', 'paintings', 'ajanta', 'ellora', 'fresh', 'ages', 'testify', 'achieved', 'varähmihir', 'brihat', 'encyclopaedia', 'informs', 'glutinous', 'roofs', 'houses', 'temples', 'prepared', 'extracts', 'fruits', 'barks', 'resins', 'scientifically', 'assess', 'atharvaveda', 'dye', 'stuff', 'turmeric', 'madder', 'sunflower', 'orpiment', 'cochineal', 'lac', 'tinting', 'kamplcica', 'pattanga', 'jatuka', 'references', 'perfumes', 'recipes', 'hair', 'indigo', 'steel', 'sour', 'rice', 'gruel', 'gandhayukli', 'scents', 'mouth', 'bath', 'powders', 'incense', 'talcum', 'the17th', 'travelleri', 'tsing', 'ink', 'colours', 'chalk', 'fermentation', 'vedas', 'liquors', 'stem', 'flowers', 'leaves', 'woods', 'cereals', 'asavas', 'philosophical', 'acharya', 'kanda', 'originally', 'kashyap', 'proponent', 'paramãnu', 'comparable', 'authored', 'text', 'vaiseshika', 'sutras', 'aggregated', 'eternal', 'indestructible', 'suprasensible', 'entity', 'sensed', 'organ', 'varieties', 'unseen', 'conceptualised', '2500', '1766', '1844', 'oldest', 'ayurvedic', 'epic', 'treatment', 'diseases', 'extreme', 'nanotechnology', 'bhasma', 'ailments', 'bhasmas', 'nanoparticles', 'decline', 'declined', 'practise', 'western', 'medicinal', '20th', 'stagnation', 'pharmaceutical', 'ayurveda', 'gradually', 'foreign', 'indigenous', 'traditional', 'scene', 'european', 'started', 'coming', 'growing', 'interection', 'beings', 'constituents', 'perceive', 'entities', 'count', 'numerical', 'central', 'intertwined', 'branches', 'weather', 'patterns', 'operation', 'computer', 'industries', 'manufacturing', 'fertilisers', 'alkalis', 'drugs', 'detergents', 'big', 'national', 'meeting', 'healthcare', 'aimed', 'improving', 'quality', 'exemplified', 'pesticides', 'insecticides', 'isolation', 'saving', 'synthesis', 'cisplatin', 'taxol', 'cancer', 'therapy', 'drug', 'azt', 'azidothymidine', 'helping', 'patients', 'growth', 'nation', 'synthesise', 'optical', 'superconducting', 'fibres', 'helped', 'establishing', 'goods', 'polymesr', 'contribute', 'generate', 'employment', 'recent', 'helpedin', 'pressing', 'aspectsof', 'environmental', 'degradation', 'fair', 'success', 'safer', 'alternatives', 'environmentally', 'hazardous', 'refrigerants', 'cfcs', 'chlorofluorocarbons', 'ozone', 'depletion', 'stratosphere', 'synthesised', 'matters', 'grave', 'concern', 'management', 'house', 'biochemical', 'enzymes', 'exotic', 'intellectual', 'challenges', 'generation', 'developing', 'country', 'talented', 'creative', 'accepting', 'challanges', 'pen', 'pencil', 'recall', 'orderly', 'fashion', 'freedom', 'easy', 'interconvertible', 'freezes', 'classification', 'ix', 'chapter', 'sustances', 'tea', 'homogeneous', 'heterogeneous', 'pulses', 'dirt', 'worthwhile', 'simplehand', 'picking', 'filtration', 'crystallisation', 'distillation', 'detail', 'simpler', 'depiction', 'pop', 'supporter', 'extinguisher', 'categories', 'odour', 'melting', 'combustibility', 'ractivity', 'bases', 'observation', 'occurance', 'acidity', 'basicity', 'interpret', 'experimentation', 'reaquired', 'english', 'metric', 'originated', 'france', 'eighteenth', 'decimal', 'community', '1960', 'maintaining', 'standards', 'definitions', 'enhanced', 'substantially', 'adopting', 'member', 'treaty', 'signed', '1875', 'agreed', 'formal', 'industrialised', 'metrology', 'nmi', 'maintains', 'responsibility', 'npl', 'periodically', 'inter', 'institutes', 'international', 'bureau', 'le', 'systeme', 'unités', 'abbreviated', 'the11th', 'conference', 'cgpm', 'conferencegenerale', 'des', 'poids', 'governmental', 'organisation', 'created', 'diplomatic', 'pertain', 'triple', '279', '16k', 'prefixes', 'multiples', 'submultiples', 'analytical', 'kilogram', 'laboratories', 'amont', 'visualise', 'burette', 'pipette', 'volumetric', 'expresses', 'scales', 'fahrenheit', 'thermometers', 'thermometer', 'calibrate', 'sticks', 'balances', 'manufacturers', 'readings', 'standardised', '1889', 'iridium', 'ir', 'airtight', 'jar', 'sevres', 'resistant', 'attack', 'attempted', 'focuses', 'crystal', 'ultrapure', 'adopted', 'serve', 'presently', 'adequate', 'replace', 'marks', '65076373', 'cumbersome', 'preserved', 'redefined', '1983', 'travelled', '792', '458', 'handle', 'conveniently', 'realistically', 'certainty', '602', '00000000000000000000000166', 'funny', 'zeros', 'offers', 'challenge', 'operations', 'subtraction', 'multiplication', 'division', 'handling', '10n', 'exponent', 'digit', '232', '508', '32508', 'places', '00016', 'performing', 'subtracted', 'casemay', 'adding', '895', 'limitation', 'skill', 'platform', '4g', '4213g', 'mentioning', 'digits', 'plus', 'estimated', 'last', '285', 'preceding', '03', '0052', 'terminal', 'counting', 'balls', 'eggs', 'placing', '000000', 'closeness', 'reports', '93', 'repeats', 'obtains', '94', 'illustrate', '122', '125', 'rounding', 'rightmost', '386', '334', 'odd', 'removing', 'accomplish', 'label', 'inch', 'equivalence', 'equals', 'desired', 'numerator', 'handled', 'cancelled', 'squared', 'jug', 'cubed', '172800', 'antoine', 'lavoisier', '1743', '1794', 'forth', '1789', 'duting', 'destroyed', 'planned', 'proust', '1754', '1826', 'samples', 'cupric', 'synthetic', 'irrespective', '1803', 'whole', 'combines', '2g', 'bear', 'atthe', 'distinction', 'understandable', 'leaving', 'unreacted', 'lorenzo', 'romano', 'carlo', 'di', 'quareqa', 'edi', 'carreto', '1776', '1856', 'polyatomic', 'diatomic', 'recognised', 'journal', 'physique', 'spite', 'gain', '1860', 'karlsruhe', 'stanislao', 'cannizaro', 'presented', 'sketch', 'philosophy', 'emphasised', '1884', 'democritus', '460', '370', 'bc', 'emerging', 'reorganisation', 'spectrometry', '12c', 'amu', 'twelfth', '66056', '6736', '0078', '0080', '16o', '995', 'unified', 'occurring', 'abundance', 'occurrence', 'computed', 'abundances', '98892', '01108', '00335', '00317', '011', 'multiplying', '008', '043', 'packing', '066', '162', 'denote', 'dozen', 'items', 'score', 'gross', '144', 'seventh', 'spectrometer', '992648', 'largeness', 'zeroes', '602213670000000000000000', 'easier', 'grams', 'numerically', 'check', 'analysing', 'ethanol', '068', 'ofper', 'theper', 'formulas', '07g', '27g', '65g', 'divide', '04', '021', 'ratios', 'ch2cl', '453', 'multiply', 'c2h4cl2', 'stoicheion', 'metron', 'interconverted', 'reagent', 'limits', 'majority', 'molality', 'trial', 'error', '2fe2o3', '2mgo', 'p4', 'p4o10', 'unbalanced', '5o2', 'propane', 'c3h8', '3co2', 'verify', 'subscripts', 'gof', '22g', '44g', '86', 'solute', 'fractions', 'in1', '2m', '0m', 'dissolving', '175', '1250', '1074', 'diluting', 'stock', 'unaffected', 'domain', 'encompasses', 'undergone', 'quantification', 'care', 'interconvert', '12u', 'na2so4', '69', 'burnt', 'ch3coona', '375', '82', '0245', '35cl', '77', '9689', '37cl', '9659', '793', '1pa', '1n', '1034', 'match', 'micro', 'deca', 'mega', 'giga', 'femto', 'severely', 'contaminated', 'chloroform', 'chcl3', 'carcinogenic', 'contamination', 'ppm', '0048', '234', '8008', '0012', '0025', '208', '5005', '0034', '216', '4107', '04597', '2808', 'obeyed', 'statement', 'conversions', 'ng', 'b2', 'ab2', '2nh3', 'yes', 'na2co3', '25365', 'largest', 'au', '040', '364', '0125', '7864', '0215', 'isotopic', '36ar', '96755', '38ar', '96272', '063', '40ar', '9624', 'welding', 'burning', '690', 'treating', 'hydrochloric', 'mncl2', 'periodicity', 'grouping', 'nomenclature', 'trends', 'correlate', 'vocabulary', 'appropriately', 'communicate', 'electronegativity', 'arguably', 'everyday', 'avenues', 'professionals', 'succinct', 'organization', 'remarkable', 'demonstration', 'cluster', 'display', 'families', 'awareness', 'wishes', 'disentangle', 'glenn', 'seaborg', 'historical', 'stands', 'logical', 'examine', '1800', '1865', 'recently', 'man', 'efforts', 'searched', 'organise', 'classifying', 'undertaking', 'genesis', 'groups', 'consequences', 'systematising', 'gained', 'johann', 'dobereiner', '1829', 'triads', 'middle', 'members', 'dismissed', 'coincidence', 'attempt', 'geologist', 'chancourtois', '1862', 'cylindrical', 'recurrence', 'alexander', 'newlands', 'profounded', 'octaves', 'eighth', 'music', 'davy', 'medal', 'royal', 'society', 'owes', 'russian', 'dmitri', 'mendeleev', '1834', '1907', 'lothar', 'meyer', '1869', 'arranging', 'repeated', 'repeating', 'credited', 'initiated', 'publishing', 'rows', 'columns', 'group', 'elaborate', 'recognized', 'broader', 'relied', 'fit', 'scheme', 'thinking', 'incorrect', 'tellurium', 'vii', 'aim', 'undiscovered', 'gaps', 'germanium', 'eka', 'boldness', 'eventual', 'witnessed', 'profound', 'henry', 'moseley', 'whereis', 'revealed', 'analogies', 'neptunium', 'plutonium', 'actinium', 'protoactinium', 'pitch', 'blende', 'ore', 'stimulated', 'renewed', 'inorganic', 'creation', 'visualize', 'numerous', 'emphasise', 'stress', 'periods', 'recommendation', 'union', 'replacing', 'older', 'ia', 'viia', 'viii', 'ib', 'viib', 'subsequent', 'lanthanoids', 'actinoids', 'panels', '1984', 'recommendations', 'replaces', 'numbering', 'naming', 'traditionally', 'privilege', 'ratified', 'controversy', 'minute', 'characterisation', 'costly', 'competitive', 'spirit', 'collecting', 'tempted', 'claim', 'soviet', 'claimed', 'discovering', 'americans', 'rutherfordium', 'soviets', 'kurchatovium', 'officially', 'roots', 'ium', '1940', 'transuranium', 'reconfiguration', '1951', 'seaborgium', 'sg', 'vote', 'representatives', 'reflect', 'tribute', 'notable', '118', 'official', 'announced', 'bi', 'nil', 'ubn', 'unbinilium', 'reflects', 'connection', 'successive', 'ls1', 'ls2', 'enters', '1s22s2', '2s22p6', 'begins', 'favourable', '3d14s2', '3d104s2', 'yttrium', 'cerium', 'lutetium', 'lanthanoid', '7p', 'includes', 'noble', 'family', 'actinoid', 'preserve', '5th', 'accommodated', 'groupwise', 'alkali', 'ns1', 'build', 'foundation', 'block', 'notice', 'categorisation', 'positioning', 'justified', 'exception', 'halogen', 'marked', 'terminology', 'broad', 'metalloids', 'ns2', 'enthalpies', 'predominantly', 'comprise', 'representative', 'ns2np1', 'ns2np6', 'removal', 'chalcogens', 'attain', 'd1', '10ns0', 'paramagnetism', 'oftenly', 'd10ns2', 'lu', 'th', 'lr', 'f1', 'd0', '1ns2', 'nanogram', '117', '5f146d107s27p5', 'uuo', '8s2', 'displaying', '303k', '302k', 'malleable', 'sheets', 'hammering', 'ductile', 'wires', 'row', 'poor', 'brittle', 'abrupt', 'thick', 'zig', 'zag', 'antimony', 'bordering', 'diagonally', 'semi', 'descend', 'likewise', 'heats', 'fusion', 'vaporization', 'atomization', 'variations', 'imagine', '198', 'internuclear', 'cores', 'adjacent', 'regularly', 'farther', 'monoatomic', 'bonded', 'down', 'crystals', 'parent', '136', '186', 'outweigh', 'isolated', 'loosely', 'qualified', 'minima', 'correlated', 'figs', 'intervening', 'shielded', 'preceded', 'ih', 'compensate', 'outweighs', 'increasingly', 'penetration', 'anomaly', 'reside', '496', '737', '786', '575', 'accompanying', 'egh', 'adds', 'endothermic', 'exothermic', 'succeeding', 'suffers', 'qualitative', 'measureable', 'pauling', 'mulliken', 'jaffe', 'allred', 'rochow', 'linus', 'greatest', 'books', 'affinity', 'consideration', 'capacities', 'holds', 'explore', 'astatine', 'extended', 'electronegativities', 'accompanied', 'diagonal', 'contraction', 'anomalous', 'necessarily', 'of2', 'na2o', '2s22p5', 'shares', '2s22p4', 'accepts', 'loses', 'sibr4', 'al2s3', 'hydrides', 'respects', 'attributed', 'covalency', 'bf4', 'aif4', 'pπ', 'alcl', 'manifestation', 'outlined', 'extremes', 'exhibited', 'oxidizing', 'cl2o7', 'amphoteric', 'as2o3', '2naoh', '2hclo4', 'tested', 'litmus', 'electropositive', 'gradual', 'arranges', 'incrementally', 'valencies', 'seventy', 'twenty', 'border', 'ge', 'sizes', 'going', 'theme', 'seventeenth', 'lawrence', 'berkeley', 'hint', 'requirements', '801', '577', '558', 'gains', 'ci', 'ns2np4', 'd2ns2', 'd1ns2', 'ih1', 'ih2', 'likely', 'binary', 'halide', 'mx2', 'influences', 'jump', 'bearing', 'raoult', 'colligative', 'solutes', 'abnormal', 'brass', 'prevents', 'tooth', 'mottled', 'poisonous', 'rat', 'poison', 'intravenous', 'injections', 'blood', 'plasma', 'homogenous', 'confusion', 'bleaching', 'hypochlorite', 'ethylene', 'glycol', 'antifreeze', 'cars', '255', '4k', 'pharmacy', '1030', 'pollutants', 'µg', 'xa', 'relating', 'c2h6o2', '322', '932', 'cubic', 'decimetre', '278', 'merits', 'demerits', 'ethanoic', 'benzene', 'c2h4o2', '0417', '556', 'c6h6', 'tetrachloride', '6h2o', 'diluted', 'urea', 'nh2conh2', 'molal', '202', 'specified', 'naphthalene', 'anthracene', 'solvents', 'dynamic', 'unsaturated', 'undissolved', 'control', 'chateliers', 'sol', 'incompressible', 'sustains', 'aquatic', 'soluble', 'greatly', 'contemporary', 'kh', 'cyclohexane', 'comfortable', 'warm', 'millimoles', 'exerts', '987', 'kbar', 'denominator', '716', 'mmol', 'finds', 'soft', 'drinks', 'bottle', 'scuba', 'divers', 'cope', 'breathing', 'underwater', 'releases', 'bubbles', 'capillaries', 'creates', 'medical', 'painful', 'dangerous', 'toxic', 'tanks', 'tissues', 'climbers', 'symptoms', 'anoxia', 'evolved', 'involves', 'chatelier', 'h2s', 'rotten', 'egg', 'smell', '195', '67x108', 'volatile', 'evaporate', 'francois', 'marte', '1886', 'p20', 'p10', 'linearly', 'dashed', 'y1', 'yi', 'dichloromethane', 'ch2cl2', '415', '213', '683', '688', '312', '147', '347', 'richer', 'pi0', 'disulphide', 'vapourise', 'alone', 'escaping', 'correspondingly', 'evaporation', 'mixh', 'mixv', 'heptane', 'chloroethane', 'toluene', 'escape', 'acetone', 'host', 'break', 'weakening', 'dipolar', 'aniline', 'phenolic', 'azeotropes', 'fractional', 'azeotrope', 'sugars', '393', '700', 'depression', 'elevation', 'osmotic', 'latin', 'ligare', 'bind', 'neglecting', 'w1', 'w2', '850', 'weighing', '845', '170', '013', 'raising', 'tb', 'kb', 'ebullioscopic', 'saucepan', 'kilograms', '052', '353', '354', '88', 'freeze', 'tf', 'kf', 'cryoscopic', 'ascertained', 'fush', 'vaph', 'δtf', '270', 'osmosis', 'home', 'raw', 'mangoes', 'shrivel', 'pickled', 'brine', 'wilted', 'revive', 'suspended', 'saline', 'membranes', 'animal', 'vegetable', 'pig', 'bladder', 'parchment', 'cellophane', 'films', 'network', 'submicroscopic', 'holes', 'pores', 'bigger', 'hindered', 'semipermeable', 'spm', 'permeable', 'membrane', 'thistle', 'funnel', 'macromolecules', 'technique', 'biomolecules', 'isotonic', 'safe', 'inject', 'intravenously', 'hypertonic', 'hypotonic', 'swell', 'protein', 'mango', 'pickle', 'carrot', 'limp', 'salty', 'retention', 'tissue', 'intercellular', 'puffiness', 'swelling', 'edema', 'subsequently', 'partly', 'preservation', 'meat', 'salting', 'protects', 'bacterial', 'bacterium', 'salted', 'candid', 'fruit', 'shrivels', 'dies', 'purification', 'desalination', 'squeezed', 'workable', 'cellulose', 'impermeable', 'impurities', 'countries', 'potable', 'ascorbic', 'vitamin', 'c6h8o6', 'pascals', '185', 'ignore', 'interionic', 'dimerise', 'dielectric', 'dimerisation', 'association', 'undoubtedly', 'associate', '1880', 'dissociated', 'inclusion', 'modifies', 'k2so4', 'benzoic', 'c6h5cooh', 'dimer', '241', 'unassociated', '992', '0205', '0106', '0197', '041', 'undissociated', 'nx', 'ch3coo', 'ka', 'percentages', 'excercise', '504', 'nahco3', 'equimolar', '222', '072', 'carcinogen', 'percent', 'meant', '004', 'octane', '271k', 'ab4', 'bars', 'naclo4', 'acetonitrile', 'ch3cn', 'c3h6o', 'ch3oh', 'insoluble', 'formic', 'pentanol', 'lake', '25g', 'cus', 'aspirin', 'c9h8o4', 'nalorphene', 'c19h21no3', 'morphine', 'combat', 'withdrawal', 'narcotic', 'users', 'dose', 'preparing', 'trichloroacetic', 'trifluoroacetic', 'ch3ch2chclcooh', 'ch2fcooh', 'fluoroacetic', '535', '140', 'torr', '475', '328', '741', '632', 'pchloroform', 'pacetone', 'xacetone', 'compositions', '84', '459', '541', '024', '946', '0263', '121', '077', 'industrially', 'interfacial', 'adsorption', 'freundlich', 'enumerate', 'colloidal', 'colloids', 'emulsions', 'gel', 'interfaces', 'hyphen', 'slash', 'miscibility', 'noticeable', 'catalysis', 'meticulously', 'imperative', 'ultra', 'gels', 'retain', 'deeper', 'accumulation', 'concentrates', 'accumulates', 'adsorbate', 'adsorbent', 'silica', 'alumina', 'clay', 'adsorbents', 'so2', 'concentrate', 'adsorbed', 'methylene', 'shaken', 'filtrate', 'colourless', 'accumulate', 'beds', 'virtue', 'desorption', 'penetrate', 'retains', 'anhydrous', 'sorption', 'environment', 'residual', 'attracting', 'featuring', 'invariably', 'entropy', 'proceeds', 'physisorption', 'chemisorption', 'ascertain', 'lack', 'specificity', 'liquefiable', '1g', 'adsorbs', '630k', '190k', '33k', 'possibility', 'hydride', 'irreversibility', 'irreversible', '240', 'verified', 'abscissa', 'supported', 'adsorb', 'precipitate', 'attains', 'precipitated', 'magneson', 'kc1', 'logk', 'logc', 'flasks', 'pump', 'masks', 'mask', 'mines', 'humidity', 'removes', 'adsorbing', 'oils', 'excellent', 'coconut', 'curing', 'kill', 'germs', 'froth', 'floatation', 'grade', 'earthy', 'pine', 'frothing', 'indicators', 'precipitates', 'halides', 'eosin', 'fluorescein', 'producing', 'chromatographic', 'crystalline', 'chlorate', '653', '873k', '2kcl', '473', '633k', 'berzelius', '1835', 'accelerate', 'promoters', 'poisons', 'enhance', 'haber', 'molybdenum', 'promoter', '3h2', 'broadly', 'trioxide', '2so2', '2so3', 'methyl', 'furnished', 'ch3cooch3', 'catalytic', 'gauze', 'ostwald', 'enhancing', 'localised', 'diffusion', 'seat', 'loose', 'immobilised', 'selectivity', 'selectively', 'inferred', 'selective', 'fail', 'zeolites', 'pore', 'honeycomb', 'structures', 'microporous', 'aluminosilicates', 'silicates', 'framework', 'cavities', 'petrochemical', 'cracking', 'isomerisation', 'zeolite', 'petroleum', 'zsm', 'alcohols', 'gasoline', 'petrol', 'dehydrating', 'nitrogenous', 'animals', '1969', 'invertase', 'zymase', 'maltose', 'diastase', 'maltase', 'urease', 'stomach', 'pepsin', 'peptides', 'intestine', 'pancreatic', 'trypsin', 'amino', 'enzymatic', 'lacto', 'bacilli', 'transform', 'amide', 'optimum', '310k', '310', 'suited', 'activators', 'weakly', 'amylase', 'catalytically', 'inhibitors', 'inhibited', 'poisoned', 'functional', 'destroy', 'nh2', 'cooh', 'sh', 'centres', 'substrate', 'complementary', 'fits', 'lock', 'binding', 'es', 'nio', 'reforming', 'ester', 'stirred', 'suspension', 'settles', 'suspensions', 'dispersions', 'colloid', 'dispersed', 'fine', 'macromolecule', 'diameters', 'cube', '1012', 'cubes', 'whipped', 'cream', 'foam', 'firefighting', 'foams', 'emergency', 'airplane', 'landings', 'fluids', 'sols', 'aquasol', 'hydrosol', 'alcosol', 'lyophilic', 'lyophobic', 'repelling', 'hydrophilic', 'hydrophobic', 'loving', 'gum', 'gelatine', 'rubber', 'reconstituted', 'remixing', 'coagulated', 'hating', 'sulphides', 'shaking', 'stabilising', 'multimolecular', 'macromolecular', 'thousand', 's8', 'polythene', 'nylon', 'polystyrene', 'micelles', 'aggregates', 'kraft', 'tk', 'micelle', 'cmc', 'revert', 'fatty', 'rcoo', 'stearate', 'ch3', 'ch2', '16coo', 'chain', 'tail', 'coo', 'head', 'chains', 'staying', 'pointing', 'outward', 'laurylsulphate', '11so4', 'cleansing', 'droplet', 'projects', 'grease', 'bristles', 'dirty', 'emulsification', 'washing', 'fats', 'sheath', 'globules', 'cloth', '3h2s', 'as2s3', '2h2s', 'aucl3', 'hcho', '2au', '3hcooh', '6hcl', 'fecl3', '3hcl', 'disintegration', 'bredig', 'arc', 'condenses', 'peptization', 'peptizing', 'freshly', 'heading', 'collodial', 'excessive', 'coagulate', 'requisite', 'mehods', 'dialysis', 'dialyser', 'bag', 'diffuse', 'electrodialysis', 'fitted', 'migrate', 'ultrafiltration', 'filters', 'filter', 'impregnating', 'collodion', 'usual', 'nitro', 'soaking', 'hardening', 'formaldehyde', 'drying', 'suction', 'aggre', 'gates', 'compara', 'tively', 'tyndall', 'translucent', 'mild', 'opalescence', 'illuminated', 'bluish', 'cone', 'scatter', 'illuminates', 'projection', 'cinema', 'hall', 'dust', 'smoke', 'satisfied', 'refractive', 'indices', 'zsigmondy', '1903', 'ultramicroscope', 'focussed', 'background', 'render', 'scattered', 'observer', 'finest', 'purple', 'botanist', 'brown', 'lesser', 'bombardment', 'stirring', 'permit', 'largely', 'coalescing', 'aggregating', 'capture', 'electrodispersion', 'preferential', 'attracts', 'counter', 'helmholtz', 'views', 'firmly', 'mobile', 'diffused', 'signs', 'capacitor', 'electrokinetic', 'zeta', 'stabilised', 'supresses', 'zita', 'electrophoresis', 'prevented', 'electroosmosis', 'coagulation', 'nearer', 'settling', 'discharged', 'neutralise', 'arsenious', 've', 'boiled', 'disturbed', 'persistent', 'neutralisation', 'coagulating', 'flocculating', 'hardy', 'schulze', 'ba2', 'cn', 'po43', 'dehydration', 'protection', 'solvated', 'protecting', 'protect', 'protective', 'immiscible', 'miscible', 'coarse', 'emulsion', 'vanishing', 'fat', 'butter', 'stabilisation', 'emulsifying', 'gums', 'lampblack', 'broken', 'centrifuging', 'meals', 'eat', 'clothes', 'wear', 'wooden', 'furniture', 'live', 'newspapers', 'fog', 'rain', 'dewpoint', 'float', 'aerosols', 'grow', 'rainfall', 'throwing', 'electrified', 'spraying', 'aeroplane', 'articles', 'halwa', 'creams', 'juices', 'albuminoid', 'styptic', 'alum', 'clot', 'bleeding', 'soils', 'fertile', 'humus', 'nourishing', 'meets', 'chimney', 'plates', 'floor', 'precipitator', 'cottrell', 'medicines', 'argyrol', 'lotion', 'kalaazar', 'intramuscular', 'injection', 'magnesia', 'disorders', 'assimilated', 'hides', 'hide', 'tannin', 'bromide', 'gelatin', 'celluloid', 'latex', 'paints', 'inks', 'plastics', 'lubricants', 'modification', 'wash', 'estimating', 'retaining', 'enhances', 'stabilise', 'emulsifier', 'emulsifiers', 'brief', 'emulsifires', 'comment', 'micellers', 'aerosol', 'biocompatible', 'chips', 'destined', 'expanding', 'amorphous', 'lattice', 'voids', 'imperfections', 'fluidity', 'oscillate', 'rigidity', 'correlation', 'nanotubes', 'tougher', 'conductive', 'biodegradable', 'packaging', 'biocompliant', 'implants', 'scenario', 'arrangements', 'geometrical', 'ordered', 'repetitive', 'quartz', 'solidify', 'amorphos', 'disordered', 'abruptly', 'soften', 'blown', 'civilisations', 'milky', 'isotropic', 'index', 'anisotropy', 'anisotropic', 'shearing', 'deformation', 'displaces', 'ab', 'microcrystalline', 'polycrystalline', 'randomly', 'lives', 'photovoltaic', 'sunlight', 'polyurethane', 'teflon', 'polyvinyl', 'fibre', 'cleavage', 'binds', 'giant', 'directional', 'carbide', 'covalently', 'slide', 'lubricant', 'insulator', 'lattices', 'tiles', 'tile', 'ignoring', 'scaffolding', 'motif', 'motifs', 'locations', 'abstract', 'spacial', 'array', 'associating', 'structurral', 'site', 'joined', 'geometry', 'spacify', 'displacement', 'generating', 'parallelogram', 'angle', 'threedimensional', 'illustration', 'primitive', 'corner', 'corners', 'faces', 'inspection', 'conforming', 'deciding', 'mathematician', 'bravais', 'bcc', 'centered', 'spacefilling', 'fcc', 'characterise', 'hexagonal', 'monoclinic', 'vacant', 'touching', 'neighbours', 'nearest', 'coordination', 'stacking', 'aligned', 'horizontally', 'aaa', 'staggered', 'depressions', 'abab', 'hexagon', 'triangular', 'apex', 'triangles', 'upwards', 'differently', 'void', 'tetrahedral', 'tetrahedron', 'theyhave', 'stack', 'octahedral', 'exploded', 'overlap', 'triangle', '2n', 'possibilities', 'hcp', 'stacked', 'abcabc', 'ccp', 'crystallise', 'fragment', 'twelve', '3rd', 'a4b3', 'locating', 'octahedron', 'edge', 'clarity', 'ac2', 'bc2', '2a2', '4r', 'a3', 'boundaries', 'efd', 'afd', 'c2', '3a2', '2r', '8r3', '288', 'crystallises', '608', '1u', '408', 'defects', 'irregularities', 'andline', 'confine', 'impurity', 'disturb', 'vacancy', 'interstitial', 'defect', 'frenkel', 'schottky', 'dislocated', 'avacancy', 'dislocation', 'zns', 'agcl', 'agbr', 'agi', '1022', '1016', 'cscl', 'srcl2', 'crystallised', 'sr2', 'cationic', 'vacancies', 'cdcl2', 'substitution', 'deficiency', 'anionic', 'farbenzenter', 'impart', 'excitation', 'licl', 'pink', 'lilac', 'zn1', 'xo', 'fe0', '95o', '93o', '96o', 'amazing', 'band', 'overlaps', 'unoccupied', 'doping', 'deficient', 'semiconductor', 'introduce', 'unshaded', 'delocalised', 'deficit', 'diode', 'rectifier', 'sandwiching', 'npn', 'pnp', 'amplify', 'photo', 'simulate', 'insb', 'alp', 'gaas', 'response', 'revolutionised', 'cds', 'cdse', 'hgte', 'tio', 'cro2', 'reo3', 'rhenium', 'vo', 'vo2', 'vo3', 'tio3', 'insulating', 'magnet', 'originates', 'loop', 'magneton', 'µb', '24a', 'spinning', 'paramagnetic', 'diamagnetic', 'ferromagnetic', 'antiferromagnetic', 'ferrimagnetic', 'magnetised', 'magnetism', 'diamagnetism', 'paired', 'cancels', 'ferromagnetism', 'gadolinium', 'permanently', 'grouped', 'domains', 'unmagnetised', 'persist', 'antiferromagnetism', 'anti', 'cancel', 'ferrimagnetism', 'unequal', '36c', 'fe3o4', 'magnetite', 'ferrites', 'mgfe2o4', 'znfe2o4', 'alignment', 'magnets', 'fourteen', 'lengths', 'packings', 'electronics', 'video', 'tetra', 'decoxide', 'phosphate', '3po4', 'sic', 'libr', 'collect', 'diethyl', 'tetragonal', 'niobium', 'ni0', '98o1', 'ni3', 'cuprous', 'cu2o', 'interstitials', '033', 'm2n3', 'kössel', 'octet', 'vsepr', 'hybridisation', 'homonuclear', 'existing', 'organising', 'modify', 'evolve', 'raises', 'vb', 'mo', 'evolution', 'inertness', 'pictured', 'kernel', 'surround', 'linked', 'sharing', 'protected', 'duplet', 'stabilized', '3p6', 'caf2', '2p5', '2p6', 'electrovalent', 'electrovalence', 'postulations', 'systematisation', 'gaining', 'losing', 'langmuir', 'refined', 'abandoning', 'cubical', 'introducing', 'contributing', 'dot', 'share', 'envisages', 'ethyne', 'c2h2', 'co32', 'skeletal', 'guessed', 'intelligently', 'nf3', 'accounting', 'utilized', 'representations', '2p2', '2p4', 'resort', 'completing', 'octets', 'o3', 'track', 'selection', 'beh2', 'bcl3', 'alcl3', 'bf3', 'pf5', 'sf6', 'interestingly', 'dichloride', 'xef2', 'krf2', 'xeof2', 'primarily', 'comparatively', 'rock', '495', '348', '788', 'achieving', 'nonbonded', 'circles', 'rvdw', 'rc', '435', 'ahv', '498', 'heteronuclear', '431', 'rcov', 'cited', 'ah1v', '502', 'ah2v', '427', '464', 'stablities', 'resonance', 'inadequate', 'conformity', '148', 'canonical', 'hybrid', 'headed', '115', '110', 'stabilizes', 'cannonical', 'averages', 'froms', 'misconceptions', 'dispelled', 'tautomeric', 'keto', 'enol', 'tautomerism', 'situated', 'hf', 'resultant', 'polarisation', 'distatable', 'lengthnce', 'debye', '33564', 'crossed', 'symbolises', 'bent', '1d', 'peter', 'bef2', '120o', 'pyramidal', 'fajans', 'dnnso', 'polarising', 'np6', 'polarises', 'buildup', 'distortion', 'procedure', 'sidgwick', 'powell', 'nyholm', 'gillespie', 'minimise', 'maximise', 'localising', 'lp', 'bp', 'repulsions', 'idealised', 'alterations', 'page114', 'geometries', '116', 'distortions', 'ab3', 'ab5', 'ab6', 'trigonal', 'planar', 'bipyramidal', 'pcl5', 'heitler', 'hybridization', 'superposition', 'rigorous', 'scope', 'approaching', 'eb', 'push', 'interpenetration', 'merging', 'overlapping', 'decides', 'hch', 'criterion', '2px1', '2py1', '2pz1', 'release', 'arguments', 'hnh', 'hoh', 'disagreement', 'sigma', 'axial', 'sidewise', 'saucer', 'participating', 'intermixing', 'redistribute', 'hybridise', 'sp3', 'hybridised', 'promotion', 'prior', 'sp', 'hybrids', 'projecting', 'becl2', 'exited', 'promoted', 'bivalency', 'axially', 'sp2', 'involvement', 'clbcl', 'py', 'distorted', '154', 'unhybridised', '134', 'schemes', 'sp3d', 'donated', 'equatorial', 'suffer', 'sp3d2', '3s23p4', 'projected', 'monocentric', 'polycentric', 'antibonding', 'obeying', 'lcao', 'ψa', 'ψb', 'ψmo', 'constructive', 'destructive', 'reinforce', 'destabilise', 'symmetries', 'σ1s', 'σ2pz', 'contours', 'be2', 'instance', 'π2px', 'π2py', 'restated', 'doubly', '438', 'σ2s', 'kk', 'occupancy', 'ne2', 'mos', 'population', 'higly', 'attached', 'shifted', 'dotted', 'intramolecular', 'attainment', 'electrovalency', 'pictorial', 'aggregation', 'descriptions', 'energetics', 'sudden', 'consequent', 'destabilization', 'bringing', 'hybridizations', 'arrangment', 'elctrons', 'sicl4', 'hcooh', 'asf5', 'ph3', 'h3po3', 'so3', 'triatomic', 'lif', 'k2o', 'clf3', 'incorrectly', 'ch', 'cho', 'exmaple', 'superoxide'])"
      ]
     },
     "execution_count": 31,
     "metadata": {},
     "output_type": "execute_result"
    }
   ],
   "source": [
    "    cv.vocabulary_.keys()"
   ]
  },
  {
   "cell_type": "code",
   "execution_count": 30,
   "metadata": {},
   "outputs": [],
   "source": [
    "temp = \"At present 114 elements are known.\"\n"
   ]
  },
  {
   "cell_type": "markdown",
   "metadata": {},
   "source": [
    "We can also get the vocabulary by using `get_feature_names()`"
   ]
  },
  {
   "cell_type": "code",
   "execution_count": 7,
   "metadata": {},
   "outputs": [
    {
     "data": {
      "text/plain": [
       "['customization',\n",
       " 'customize',\n",
       " 'customized',\n",
       " 'customlog',\n",
       " 'customview',\n",
       " 'cut',\n",
       " 'cv',\n",
       " 'cv_',\n",
       " 'cval',\n",
       " 'cvc',\n",
       " 'cw',\n",
       " 'cwd',\n",
       " 'cx',\n",
       " 'cx_oracle',\n",
       " 'cxf']"
      ]
     },
     "execution_count": 7,
     "metadata": {},
     "output_type": "execute_result"
    }
   ],
   "source": [
    "list(cv.get_feature_names())[2000:2015]"
   ]
  },
  {
   "cell_type": "markdown",
   "metadata": {},
   "source": [
    "### TfidfTransformer to Compute Inverse Document Frequency (IDF) \n",
    "In the code below, we are essentially taking the sparse matrix from CountVectorizer to generate the IDF when you invoke `fit`. An extremely important point to note here is that the IDF should be based on a large corpora and should be representative of texts you would be using to extract keywords. I've seen several articles on the Web that compute the IDF using a handful of documents. To understand why IDF should be based on a fairly large collection, please read this [page from Standford's IR book](https://nlp.stanford.edu/IR-book/html/htmledition/inverse-document-frequency-1.html)."
   ]
  },
  {
   "cell_type": "code",
   "execution_count": 8,
   "metadata": {},
   "outputs": [
    {
     "data": {
      "text/plain": [
       "TfidfTransformer(norm='l2', smooth_idf=True, sublinear_tf=False, use_idf=True)"
      ]
     },
     "execution_count": 8,
     "metadata": {},
     "output_type": "execute_result"
    }
   ],
   "source": [
    "from sklearn.feature_extraction.text import TfidfTransformer\n",
    "\n",
    "tfidf_transformer=TfidfTransformer(smooth_idf=True,use_idf=True)\n",
    "tfidf_transformer.fit(word_count_vector)"
   ]
  },
  {
   "cell_type": "markdown",
   "metadata": {},
   "source": [
    "Let's look at some of the IDF values:"
   ]
  },
  {
   "cell_type": "code",
   "execution_count": 9,
   "metadata": {},
   "outputs": [
    {
     "data": {
      "text/plain": [
       "array([ 7.37717703,  9.80492526,  9.51724319, ...,  8.82409601,\n",
       "       10.21039037,  9.51724319])"
      ]
     },
     "execution_count": 9,
     "metadata": {},
     "output_type": "execute_result"
    }
   ],
   "source": [
    "tfidf_transformer.idf_"
   ]
  },
  {
   "cell_type": "markdown",
   "metadata": {},
   "source": [
    "## Computing TF-IDF and Extracting Keywords"
   ]
  },
  {
   "cell_type": "markdown",
   "metadata": {},
   "source": [
    "Once we have our IDF computed, we are now ready to compute TF-IDF and extract the top keywords. In this example, we will extract top keywords for the questions in `data/stackoverflow-test.json`. This data file has 500 questions with fields identical to that of `data/stackoverflow-data-idf.json` as we saw above. We will start by reading our test file, extracting the necessary fields (title and body) and get the texts into a list."
   ]
  },
  {
   "cell_type": "code",
   "execution_count": 10,
   "metadata": {},
   "outputs": [],
   "source": [
    "# read test docs into a dataframe and concatenate title and body\n",
    "df_test=pd.read_json(\"data/stackoverflow-test.json\",lines=True)\n",
    "df_test['text'] = df_test['title'] + df_test['body']\n",
    "df_test['text'] =df_test['text'].apply(lambda x:pre_process(x))\n",
    "\n",
    "# get test docs into a list\n",
    "docs_test=df_test['text'].tolist()\n",
    "docs_title=df_test['title'].tolist()\n",
    "docs_body=df_test['body'].tolist()"
   ]
  },
  {
   "cell_type": "code",
   "execution_count": 11,
   "metadata": {},
   "outputs": [],
   "source": [
    "def sort_coo(coo_matrix):\n",
    "    tuples = zip(coo_matrix.col, coo_matrix.data)\n",
    "    return sorted(tuples, key=lambda x: (x[1], x[0]), reverse=True)\n",
    "\n",
    "def extract_topn_from_vector(feature_names, sorted_items, topn=10):\n",
    "    \"\"\"get the feature names and tf-idf score of top n items\"\"\"\n",
    "    \n",
    "    #use only topn items from vector\n",
    "    sorted_items = sorted_items[:topn]\n",
    "\n",
    "    score_vals = []\n",
    "    feature_vals = []\n",
    "\n",
    "    for idx, score in sorted_items:\n",
    "        fname = feature_names[idx]\n",
    "        \n",
    "        #keep track of feature name and its corresponding score\n",
    "        score_vals.append(round(score, 3))\n",
    "        feature_vals.append(feature_names[idx])\n",
    "\n",
    "    #create a tuples of feature,score\n",
    "    #results = zip(feature_vals,score_vals)\n",
    "    results= {}\n",
    "    for idx in range(len(feature_vals)):\n",
    "        results[feature_vals[idx]]=score_vals[idx]\n",
    "    \n",
    "    return results"
   ]
  },
  {
   "cell_type": "markdown",
   "metadata": {},
   "source": [
    "The next step is to compute the tf-idf value for a given document in our test set by invoking `tfidf_transformer.transform(...)`. This generates a vector of tf-idf scores. Next, we sort the words in the vector in descending order of tf-idf values and then iterate over to extract the top-n items with the corresponding feature names, In the example below, we are extracting keywords for the first document in our test set. \n",
    "\n",
    "The `sort_coo(...)` method essentially sorts the values in the vector while preserving the column index. Once you have the column index then its really easy to look-up the corresponding word value as you would see in `extract_topn_from_vector(...)` where we do `feature_vals.append(feature_names[idx])`."
   ]
  },
  {
   "cell_type": "code",
   "execution_count": 12,
   "metadata": {},
   "outputs": [
    {
     "name": "stdout",
     "output_type": "stream",
     "text": [
      "\n",
      "=====Title=====\n",
      "Integrate War-Plugin for m2eclipse into Eclipse Project\n",
      "\n",
      "=====Body=====\n",
      "<p>I set up a small web project with JSF and Maven. Now I want to deploy on a Tomcat server. Is there a possibility to automate that like a button in Eclipse that automatically deploys the project to Tomcat?</p>\n",
      "\n",
      "<p>I read about a the <a href=\"http://maven.apache.org/plugins/maven-war-plugin/\" rel=\"nofollow noreferrer\">Maven War Plugin</a> but I couldn't find a tutorial how to integrate that into my process (eclipse/m2eclipse).</p>\n",
      "\n",
      "<p>Can you link me to help or try to explain it. Thanks.</p>\n",
      "\n",
      "===Keywords===\n",
      "eclipse 0.593\n",
      "war 0.317\n",
      "integrate 0.281\n",
      "maven 0.273\n",
      "tomcat 0.27\n",
      "project 0.239\n",
      "plugin 0.214\n",
      "automate 0.157\n",
      "jsf 0.152\n",
      "possibility 0.146\n"
     ]
    },
    {
     "name": "stderr",
     "output_type": "stream",
     "text": [
      "/Library/Frameworks/Python.framework/Versions/3.6/lib/python3.6/site-packages/sklearn/feature_extraction/text.py:1089: FutureWarning: Conversion of the second argument of issubdtype from `float` to `np.floating` is deprecated. In future, it will be treated as `np.float64 == np.dtype(float).type`.\n",
      "  if hasattr(X, 'dtype') and np.issubdtype(X.dtype, np.float):\n"
     ]
    }
   ],
   "source": [
    "# you only needs to do this once\n",
    "feature_names=cv.get_feature_names()\n",
    "\n",
    "# get the document that we want to extract keywords from\n",
    "doc=docs_test[0]\n",
    "\n",
    "#generate tf-idf for the given document\n",
    "tf_idf_vector=tfidf_transformer.transform(cv.transform([doc]))\n",
    "\n",
    "#sort the tf-idf vectors by descending order of scores\n",
    "sorted_items=sort_coo(tf_idf_vector.tocoo())\n",
    "\n",
    "#extract only the top n; n here is 10\n",
    "keywords=extract_topn_from_vector(feature_names,sorted_items,10)\n",
    "\n",
    "# now print the results\n",
    "print(\"\\n=====Title=====\")\n",
    "print(docs_title[0])\n",
    "print(\"\\n=====Body=====\")\n",
    "print(docs_body[0])\n",
    "print(\"\\n===Keywords===\")\n",
    "for k in keywords:\n",
    "    print(k,keywords[k])"
   ]
  },
  {
   "cell_type": "markdown",
   "metadata": {},
   "source": [
    "From the keywords above, the top keywords actually make sense, it talks about `eclipse`, `maven`, `integrate`, `war` and `tomcat` which are all unique to this specific question. There are a couple of kewyords that could have been eliminated such as `possibility` and perhaps even `project` and you can do this by adding more common words to your stop list and you can even create your own set of stop list, very specific to your domain as [described here](http://kavita-ganesan.com/tips-for-constructing-custom-stop-word-lists/).\n",
    "\n"
   ]
  },
  {
   "cell_type": "code",
   "execution_count": 13,
   "metadata": {},
   "outputs": [],
   "source": [
    "# put the common code into several methods\n",
    "def get_keywords(idx):\n",
    "\n",
    "    #generate tf-idf for the given document\n",
    "    tf_idf_vector=tfidf_transformer.transform(cv.transform([docs_test[idx]]))\n",
    "\n",
    "    #sort the tf-idf vectors by descending order of scores\n",
    "    sorted_items=sort_coo(tf_idf_vector.tocoo())\n",
    "\n",
    "    #extract only the top n; n here is 10\n",
    "    keywords=extract_topn_from_vector(feature_names,sorted_items,10)\n",
    "    \n",
    "    return keywords\n",
    "\n",
    "def print_results(idx,keywords):\n",
    "    # now print the results\n",
    "    print(\"\\n=====Title=====\")\n",
    "    print(docs_title[idx])\n",
    "    print(\"\\n=====Body=====\")\n",
    "    print(docs_body[idx])\n",
    "    print(\"\\n===Keywords===\")\n",
    "    for k in keywords:\n",
    "        print(k,keywords[k])\n",
    "\n"
   ]
  },
  {
   "cell_type": "markdown",
   "metadata": {},
   "source": [
    "Now let's look at keywords generated for a much longer question: \n"
   ]
  },
  {
   "cell_type": "code",
   "execution_count": 14,
   "metadata": {},
   "outputs": [
    {
     "name": "stdout",
     "output_type": "stream",
     "text": [
      "\n",
      "=====Title=====\n",
      "SQL Import Wizard - Error\n",
      "\n",
      "=====Body=====\n",
      "<p>I have a CSV file that I'm trying to import into SQL Management Server Studio.</p>\n",
      "\n",
      "<p>In Excel, the column giving me trouble looks like this:\n",
      "<a href=\"https://i.stack.imgur.com/pm0uS.png\" rel=\"nofollow noreferrer\"><img src=\"https://i.stack.imgur.com/pm0uS.png\" alt=\"enter image description here\"></a></p>\n",
      "\n",
      "<p>Tasks > import data > Flat Source File > select file</p>\n",
      "\n",
      "<p><a href=\"https://i.stack.imgur.com/G4b6I.png\" rel=\"nofollow noreferrer\"><img src=\"https://i.stack.imgur.com/G4b6I.png\" alt=\"enter image description here\"></a></p>\n",
      "\n",
      "<p>I set the data type for this column to DT_NUMERIC, adjust the DataScale to 2 in order to get 2 decimal places, but when I click over to Preview, I see that it's clearly not recognizing the numbers appropriately:</p>\n",
      "\n",
      "<p><a href=\"https://i.stack.imgur.com/NZhiQ.png\" rel=\"nofollow noreferrer\"><img src=\"https://i.stack.imgur.com/NZhiQ.png\" alt=\"enter image description here\"></a></p>\n",
      "\n",
      "<p>The column mapping for this column is set to type = decimal; precision 18; scale 2.</p>\n",
      "\n",
      "<p>Error message: Data Flow Task 1: Data conversion failed. The data conversion for column \"Amount\" returned status value 2 and status text \"The value could not be converted because of a potential loss of data.\".\n",
      " (SQL Server Import and Export Wizard)</p>\n",
      "\n",
      "<p>Can someone identify where I'm going wrong here?  Thanks!</p>\n",
      "\n",
      "===Keywords===\n",
      "column 0.365\n",
      "import 0.286\n",
      "data 0.283\n",
      "wizard 0.27\n",
      "decimal 0.227\n",
      "conversion 0.224\n",
      "sql 0.217\n",
      "status 0.164\n",
      "file 0.147\n",
      "appropriately 0.142\n"
     ]
    },
    {
     "name": "stderr",
     "output_type": "stream",
     "text": [
      "/Library/Frameworks/Python.framework/Versions/3.6/lib/python3.6/site-packages/sklearn/feature_extraction/text.py:1089: FutureWarning: Conversion of the second argument of issubdtype from `float` to `np.floating` is deprecated. In future, it will be treated as `np.float64 == np.dtype(float).type`.\n",
      "  if hasattr(X, 'dtype') and np.issubdtype(X.dtype, np.float):\n"
     ]
    }
   ],
   "source": [
    "idx=120\n",
    "keywords=get_keywords(idx)\n",
    "print_results(idx,keywords)"
   ]
  },
  {
   "cell_type": "markdown",
   "metadata": {},
   "source": [
    "Whoala! Now you can extract important keywords from any type of text! "
   ]
  }
 ],
 "metadata": {
  "celltoolbar": "Raw Cell Format",
  "kernelspec": {
   "display_name": "Python 3",
   "language": "python",
   "name": "python3"
  },
  "language_info": {
   "codemirror_mode": {
    "name": "ipython",
    "version": 3
   },
   "file_extension": ".py",
   "mimetype": "text/x-python",
   "name": "python",
   "nbconvert_exporter": "python",
   "pygments_lexer": "ipython3",
   "version": "3.6.6"
  }
 },
 "nbformat": 4,
 "nbformat_minor": 2
}
